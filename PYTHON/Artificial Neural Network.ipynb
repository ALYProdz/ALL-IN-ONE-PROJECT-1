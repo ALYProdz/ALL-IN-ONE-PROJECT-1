{
 "cells": [
  {
   "cell_type": "markdown",
   "id": "2889e99d-8aa8-45c7-b1fd-098553ace78a",
   "metadata": {},
   "source": [
    "# Artificial Neural Networks - Forward Propagation"
   ]
  },
  {
   "cell_type": "markdown",
   "id": "1a163ae1-f414-4a99-b7cc-ac6035c05b13",
   "metadata": {},
   "source": [
    "In this case study, I'll build aneural network from sctratch and code, how will perfomr the predictions using forward propagation"
   ]
  },
  {
   "cell_type": "code",
   "execution_count": 22,
   "id": "b92fb805-1f23-4c33-945d-696a41d9bbda",
   "metadata": {},
   "outputs": [],
   "source": [
    "#Import required module for\n",
    "import numpy as np"
   ]
  },
  {
   "cell_type": "code",
   "execution_count": 78,
   "id": "3e461ebc-4ee3-49a5-ac8e-4c330dbbb584",
   "metadata": {},
   "outputs": [],
   "source": [
    "#Create variable for weights and bias \n",
    "weigths= np.around(np.random.uniform(size=8), decimals = 2)\n",
    "bias = np.around(np.random.uniform(size = 4), decimals = 2)"
   ]
  },
  {
   "cell_type": "code",
   "execution_count": 80,
   "id": "42208cc7-1a0b-4bc5-9c97-fa3d9aa244b8",
   "metadata": {},
   "outputs": [
    {
     "name": "stdout",
     "output_type": "stream",
     "text": [
      "The weights are :  [0.87 0.67 0.32 0.89 0.7  0.86 0.95 0.63]\n",
      "The bias are :  [0.72 0.78 0.01 0.63]\n"
     ]
    }
   ],
   "source": [
    "#Lets print the wights and the bias \n",
    "print(\"The weights are : \",weigths)\n",
    "print(\"The bias are : \",bias)"
   ]
  },
  {
   "cell_type": "code",
   "execution_count": 82,
   "id": "4459f1dc-2fd2-4a9c-9e19-502cbfef3388",
   "metadata": {},
   "outputs": [],
   "source": [
    "#Let's create the input x1 and x2\n",
    "x1 = 0.5\n",
    "x2 = 0.8"
   ]
  },
  {
   "cell_type": "code",
   "execution_count": 84,
   "id": "81c3a68b-7b98-4179-817b-b84ba21d6eeb",
   "metadata": {},
   "outputs": [],
   "source": [
    "#Now, Let's calculate the forward progation\n",
    "z1 = x1*weigths[0] + x2 * weigths[1] + bias[0]"
   ]
  },
  {
   "cell_type": "code",
   "execution_count": 86,
   "id": "eb246624-931d-41ab-b029-3c6e88acd6e6",
   "metadata": {},
   "outputs": [
    {
     "data": {
      "text/plain": [
       "1.691"
      ]
     },
     "execution_count": 86,
     "metadata": {},
     "output_type": "execute_result"
    }
   ],
   "source": [
    "z1"
   ]
  },
  {
   "cell_type": "code",
   "execution_count": 88,
   "id": "e980e75c-b3c5-4a27-a0ba-f06ae3304f29",
   "metadata": {},
   "outputs": [],
   "source": [
    "#Let's calculate the activation layer of the first node, using sigma function"
   ]
  },
  {
   "cell_type": "code",
   "execution_count": 90,
   "id": "434bf241-8e0c-46f1-8e4b-b5a50bf9f39f",
   "metadata": {},
   "outputs": [],
   "source": [
    "a = 1/(1+np.exp(-z1))"
   ]
  },
  {
   "cell_type": "code",
   "execution_count": 92,
   "id": "5cbdb14f-ce83-4798-b1f4-69b2cb940e64",
   "metadata": {},
   "outputs": [
    {
     "name": "stdout",
     "output_type": "stream",
     "text": [
      "The activation layer of the first node is 0.8443556243398103\n"
     ]
    }
   ],
   "source": [
    "print(\"The activation layer of the first node is {}\".format(a))"
   ]
  },
  {
   "cell_type": "code",
   "execution_count": 94,
   "id": "b58d3914-83cc-4fe2-b5df-37a21877b96f",
   "metadata": {},
   "outputs": [
    {
     "name": "stdout",
     "output_type": "stream",
     "text": [
      "The activation layer of the first node is 0.8444\n"
     ]
    }
   ],
   "source": [
    "print(\"The activation layer of the first node is {}\".format(np.around(a, decimals= 4)))"
   ]
  },
  {
   "cell_type": "code",
   "execution_count": null,
   "id": "30b6e011-d7aa-46b6-a69c-3c80820e6e48",
   "metadata": {},
   "outputs": [],
   "source": []
  },
  {
   "cell_type": "code",
   "execution_count": null,
   "id": "3fc88eca-caf5-4f88-bdee-d2f667b6b74d",
   "metadata": {},
   "outputs": [],
   "source": []
  },
  {
   "cell_type": "code",
   "execution_count": null,
   "id": "72a30ce3-73a2-43a9-814e-7449aa457cb2",
   "metadata": {},
   "outputs": [],
   "source": []
  },
  {
   "cell_type": "code",
   "execution_count": 100,
   "id": "cc271f75-1223-4098-82a3-1bea0ba08a1a",
   "metadata": {},
   "outputs": [],
   "source": [
    "n = 2 # number of inputs\n",
    "num_hidden_layers = 2 # number of hidden layers\n",
    "m = [2, 2] # number of nodes in each hidden layer\n",
    "num_nodes_output = 1 # number of nodes in the output layer"
   ]
  },
  {
   "cell_type": "code",
   "execution_count": 106,
   "id": "9d4a228b-129e-4a49-8287-b13cf1da1031",
   "metadata": {},
   "outputs": [
    {
     "name": "stdout",
     "output_type": "stream",
     "text": [
      "{'layer_1': {'node_1': {'weights': array([0.52, 0.48]), 'bias': array([0.18])}, 'node_2': {'weights': array([0.66, 0.54]), 'bias': array([0.51])}}, 'layer_2': {'node_1': {'weights': array([0.74, 0.17]), 'bias': array([0.7])}, 'node_2': {'weights': array([0.63, 0.64]), 'bias': array([0.06])}}, 'output': {'node_1': {'weights': array([0.1 , 0.55]), 'bias': array([0.81])}}}\n"
     ]
    }
   ],
   "source": [
    "num_nodes_previous = n # number of nodes in the previous layer\n",
    "\n",
    "network = {} # initialize network an an empty dictionary\n",
    "\n",
    "# loop through each layer and randomly initialize the weights and biases associated with each node\n",
    "# notice how we are adding 1 to the number of hidden layers in order to include the output layer\n",
    "for layer in range(num_hidden_layers + 1): \n",
    "    \n",
    "    # determine name of layer\n",
    "    if layer == num_hidden_layers:\n",
    "        layer_name = 'output'\n",
    "        num_nodes = num_nodes_output\n",
    "    else:\n",
    "        layer_name = 'layer_{}'.format(layer + 1)\n",
    "        num_nodes = m[layer]\n",
    "    \n",
    "    # initialize weights and biases associated with each node in the current layer\n",
    "    network[layer_name] = {}\n",
    "    for node in range(num_nodes):\n",
    "        node_name = 'node_{}'.format(node+1)\n",
    "        network[layer_name][node_name] = {\n",
    "            'weights': np.around(np.random.uniform(size=num_nodes_previous), decimals=2),\n",
    "            'bias': np.around(np.random.uniform(size=1), decimals=2),\n",
    "        }\n",
    "    \n",
    "    num_nodes_previous = num_nodes\n",
    "    \n",
    "print(network) # print network"
   ]
  },
  {
   "cell_type": "code",
   "execution_count": null,
   "id": "b4169645-c408-481a-bc3a-7997629957a8",
   "metadata": {},
   "outputs": [],
   "source": []
  },
  {
   "cell_type": "code",
   "execution_count": null,
   "id": "0992e263-23f0-4ef1-8ca9-6506b7a62d5c",
   "metadata": {},
   "outputs": [],
   "source": []
  },
  {
   "cell_type": "code",
   "execution_count": null,
   "id": "6144f379-44e2-4cee-86b5-54e07918d9d7",
   "metadata": {},
   "outputs": [],
   "source": []
  },
  {
   "cell_type": "code",
   "execution_count": null,
   "id": "dc04fc16-dfd5-4340-b8f2-e1a4bee6faa8",
   "metadata": {},
   "outputs": [],
   "source": []
  },
  {
   "cell_type": "markdown",
   "id": "7f5bba49-e166-4f5b-89a8-c2631097e496",
   "metadata": {},
   "source": [
    "<h2>\n",
    "    Author : \n",
    "     <h6>WEDSON PETIT HOMME </h6>\n",
    "    <br>\n",
    "    <h4> Contact :</h4>\n",
    "    <li>Email : wedsonpetithomme0@gmail.com</li>\n",
    "    <li> <a href = \"https://www.linkedin.com/\"> Linkedin :</a><a href = \"https://www.linkedin.com/in/wedson-petithomme-947571239/\">wedson-petit-homme-947571239 </a></li>\n",
    "    <li><a href = \"https://github.com/ALYProdz\">GitHub :</a><a href = \"https://github.com/ALYProdz\">Wedson (ALYProdz) </a> </li>\n",
    "    <li><a href = \"https://x.com/\"> X(Twitter) :</a> @WedsonPh97</li>\n",
    "    <li><a href = https://www.datacamp.com/portfolio/wedsonpetithomme> Datacamp :</a><a href = \"https://www.datacamp.com/portfolio/wedsonpetithomme\"> WEDSON PETIT HOMME</a></li>\n",
    "</h2>"
   ]
  },
  {
   "cell_type": "code",
   "execution_count": null,
   "id": "659554a9-36b9-4451-8f8a-8d5610602203",
   "metadata": {},
   "outputs": [],
   "source": []
  }
 ],
 "metadata": {
  "kernelspec": {
   "display_name": "Python [conda env:base] *",
   "language": "python",
   "name": "conda-base-py"
  },
  "language_info": {
   "codemirror_mode": {
    "name": "ipython",
    "version": 3
   },
   "file_extension": ".py",
   "mimetype": "text/x-python",
   "name": "python",
   "nbconvert_exporter": "python",
   "pygments_lexer": "ipython3",
   "version": "3.12.7"
  }
 },
 "nbformat": 4,
 "nbformat_minor": 5
}
