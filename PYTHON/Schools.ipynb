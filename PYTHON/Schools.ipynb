{
 "cells": [
  {
   "cell_type": "code",
   "execution_count": null,
   "id": "781e2954-70c7-43fe-be10-2c9c3d74bce6",
   "metadata": {},
   "outputs": [],
   "source": []
  },
  {
   "cell_type": "markdown",
   "id": "f010be2f-2c0f-476f-8d25-05c22a9260d0",
   "metadata": {},
   "source": [
    "<img src = \"./Desktop/DATA ANALYSIS PROJECT/Project/workspace (7)/workspace/schoolbus.jpg\">\n",
    "\n",
    "Photo by [Jannis Lucas](https://unsplash.com/@jannis_lucas) on [Unsplash](https://unsplash.com).\n",
    "<br>\n",
    "\n",
    "Every year, American high school students take SATs, which are standardized tests intended to measure literacy, numeracy, and writing skills. There are three sections - reading, math, and writing, each with a **maximum score of 800 points**. These tests are extremely important for students and colleges, as they play a pivotal role in the admissions process.\n",
    "\n",
    "Analyzing the performance of schools is important for a variety of stakeholders, including policy and education professionals, researchers, government, and even parents considering which school their children should attend. \n",
    "\n",
    "You have been provided with a dataset called `schools.csv`, which is previewed below.\n",
    "\n",
    "You have been tasked with answering three key questions about New York City (NYC) public school SAT performance."
   ]
  },
  {
   "cell_type": "code",
   "execution_count": 10,
   "id": "872fb390-67e5-48cb-96b9-58ebe706dc5c",
   "metadata": {},
   "outputs": [],
   "source": [
    "import pandas as pd\n",
    "import numpy as np\n",
    "import matplotlib.pyplot as plt\n",
    "import sklearn as sk\n",
    "from sklearn.linear_model import LinearRegression, LogisticRegression\n",
    "import seaborn as sns\n",
    "import scipy.stats as ss"
   ]
  },
  {
   "cell_type": "code",
   "execution_count": 14,
   "id": "ca8d28ff-4a33-4acf-abbd-aae640abe3df",
   "metadata": {},
   "outputs": [],
   "source": [
    "schools = pd.read_csv(\"./Desktop/DATA ANALYSIS PROJECT/Project/workspace (7)/workspace/schools.csv\")"
   ]
  },
  {
   "cell_type": "code",
   "execution_count": 31,
   "id": "2b4ed236-edf6-4ae7-a866-b3ce3d454828",
   "metadata": {},
   "outputs": [
    {
     "data": {
      "text/html": [
       "<div>\n",
       "<style scoped>\n",
       "    .dataframe tbody tr th:only-of-type {\n",
       "        vertical-align: middle;\n",
       "    }\n",
       "\n",
       "    .dataframe tbody tr th {\n",
       "        vertical-align: top;\n",
       "    }\n",
       "\n",
       "    .dataframe thead th {\n",
       "        text-align: right;\n",
       "    }\n",
       "</style>\n",
       "<table border=\"1\" class=\"dataframe\">\n",
       "  <thead>\n",
       "    <tr style=\"text-align: right;\">\n",
       "      <th></th>\n",
       "      <th>school_name</th>\n",
       "      <th>borough</th>\n",
       "      <th>building_code</th>\n",
       "      <th>average_math</th>\n",
       "      <th>average_reading</th>\n",
       "      <th>average_writing</th>\n",
       "      <th>percent_tested</th>\n",
       "      <th>total_SAT</th>\n",
       "    </tr>\n",
       "  </thead>\n",
       "  <tbody>\n",
       "    <tr>\n",
       "      <th>0</th>\n",
       "      <td>New Explorations into Science, Technology and ...</td>\n",
       "      <td>Manhattan</td>\n",
       "      <td>M022</td>\n",
       "      <td>657</td>\n",
       "      <td>601</td>\n",
       "      <td>601</td>\n",
       "      <td>NaN</td>\n",
       "      <td>1859</td>\n",
       "    </tr>\n",
       "    <tr>\n",
       "      <th>1</th>\n",
       "      <td>Essex Street Academy</td>\n",
       "      <td>Manhattan</td>\n",
       "      <td>M445</td>\n",
       "      <td>395</td>\n",
       "      <td>411</td>\n",
       "      <td>387</td>\n",
       "      <td>78.9</td>\n",
       "      <td>1193</td>\n",
       "    </tr>\n",
       "    <tr>\n",
       "      <th>2</th>\n",
       "      <td>Lower Manhattan Arts Academy</td>\n",
       "      <td>Manhattan</td>\n",
       "      <td>M445</td>\n",
       "      <td>418</td>\n",
       "      <td>428</td>\n",
       "      <td>415</td>\n",
       "      <td>65.1</td>\n",
       "      <td>1261</td>\n",
       "    </tr>\n",
       "    <tr>\n",
       "      <th>3</th>\n",
       "      <td>High School for Dual Language and Asian Studies</td>\n",
       "      <td>Manhattan</td>\n",
       "      <td>M445</td>\n",
       "      <td>613</td>\n",
       "      <td>453</td>\n",
       "      <td>463</td>\n",
       "      <td>95.9</td>\n",
       "      <td>1529</td>\n",
       "    </tr>\n",
       "    <tr>\n",
       "      <th>4</th>\n",
       "      <td>Henry Street School for International Studies</td>\n",
       "      <td>Manhattan</td>\n",
       "      <td>M056</td>\n",
       "      <td>410</td>\n",
       "      <td>406</td>\n",
       "      <td>381</td>\n",
       "      <td>59.7</td>\n",
       "      <td>1197</td>\n",
       "    </tr>\n",
       "  </tbody>\n",
       "</table>\n",
       "</div>"
      ],
      "text/plain": [
       "                                         school_name    borough building_code  \\\n",
       "0  New Explorations into Science, Technology and ...  Manhattan          M022   \n",
       "1                               Essex Street Academy  Manhattan          M445   \n",
       "2                       Lower Manhattan Arts Academy  Manhattan          M445   \n",
       "3    High School for Dual Language and Asian Studies  Manhattan          M445   \n",
       "4      Henry Street School for International Studies  Manhattan          M056   \n",
       "\n",
       "   average_math  average_reading  average_writing  percent_tested  total_SAT  \n",
       "0           657              601              601             NaN       1859  \n",
       "1           395              411              387            78.9       1193  \n",
       "2           418              428              415            65.1       1261  \n",
       "3           613              453              463            95.9       1529  \n",
       "4           410              406              381            59.7       1197  "
      ]
     },
     "execution_count": 31,
     "metadata": {},
     "output_type": "execute_result"
    }
   ],
   "source": [
    "schools.head()"
   ]
  },
  {
   "cell_type": "code",
   "execution_count": 33,
   "id": "e0b6b2be-a5d5-4297-8d0d-36abaa92d2f4",
   "metadata": {},
   "outputs": [
    {
     "data": {
      "text/plain": [
       "Index(['school_name', 'borough', 'building_code', 'average_math',\n",
       "       'average_reading', 'average_writing', 'percent_tested', 'total_SAT'],\n",
       "      dtype='object')"
      ]
     },
     "execution_count": 33,
     "metadata": {},
     "output_type": "execute_result"
    }
   ],
   "source": [
    "schools.columns"
   ]
  },
  {
   "cell_type": "code",
   "execution_count": 35,
   "id": "3d9845ac-5976-4d68-96cd-903eade978ef",
   "metadata": {},
   "outputs": [
    {
     "data": {
      "text/plain": [
       "(375, 8)"
      ]
     },
     "execution_count": 35,
     "metadata": {},
     "output_type": "execute_result"
    }
   ],
   "source": [
    "schools.shape"
   ]
  },
  {
   "cell_type": "code",
   "execution_count": null,
   "id": "886b88b5-009a-4c1e-8b02-c1bdb6cc1ce8",
   "metadata": {},
   "outputs": [],
   "source": []
  },
  {
   "cell_type": "code",
   "execution_count": null,
   "id": "a64ded6b-a5af-4eeb-8b37-e63b80afe650",
   "metadata": {},
   "outputs": [],
   "source": []
  },
  {
   "cell_type": "code",
   "execution_count": null,
   "id": "d9bae17a-5c79-481c-a95c-e04eca9c7304",
   "metadata": {},
   "outputs": [],
   "source": []
  },
  {
   "cell_type": "code",
   "execution_count": null,
   "id": "491581a8-ca6d-457e-aaa5-41398ab3aed4",
   "metadata": {},
   "outputs": [],
   "source": []
  },
  {
   "cell_type": "code",
   "execution_count": 21,
   "id": "c21e77fd-4b52-4e07-8968-363320121691",
   "metadata": {},
   "outputs": [
    {
     "name": "stdout",
     "output_type": "stream",
     "text": [
      "                                           school_name  average_math\n",
      "88                              Stuyvesant High School           754\n",
      "170                       Bronx High School of Science           714\n",
      "93                 Staten Island Technical High School           711\n",
      "365  Queens High School for the Sciences at York Co...           701\n",
      "68   High School for Mathematics, Science, and Engi...           683\n"
     ]
    }
   ],
   "source": [
    "# Calc 80% of 800\n",
    "math_score_threshold = 0.8 * 800\n",
    "\n",
    "# Filter school with average math scores >= threshold\n",
    "schools_above_threshold = schools[schools[\"average_math\"] >= math_score_threshold]\n",
    "\n",
    "# Select required columns and sort\n",
    "best_math_schools = schools_above_threshold[[\"school_name\",\"average_math\"]].sort_values(\"average_math\", ascending=False)\n",
    "\n",
    "# Display the result\n",
    "print(best_math_schools.head())"
   ]
  },
  {
   "cell_type": "code",
   "execution_count": 23,
   "id": "dfbcf874-fb39-4803-8ded-77b1d44bac3c",
   "metadata": {},
   "outputs": [],
   "source": [
    "schools[\"total_SAT\"] = schools[\"average_math\"] + schools[\"average_reading\"] + schools[\"average_writing\"]"
   ]
  },
  {
   "cell_type": "code",
   "execution_count": 25,
   "id": "92209366-2cf4-404b-8c01-90d845ebe42c",
   "metadata": {},
   "outputs": [],
   "source": [
    "top_10_schools = schools[[\"school_name\",\"total_SAT\"]].sort_values(\"total_SAT\", ascending = False).head(10)"
   ]
  },
  {
   "cell_type": "code",
   "execution_count": 27,
   "id": "341bed3a-2c6e-44ea-92be-365ce05f6b56",
   "metadata": {},
   "outputs": [
    {
     "data": {
      "text/html": [
       "<div>\n",
       "<style scoped>\n",
       "    .dataframe tbody tr th:only-of-type {\n",
       "        vertical-align: middle;\n",
       "    }\n",
       "\n",
       "    .dataframe tbody tr th {\n",
       "        vertical-align: top;\n",
       "    }\n",
       "\n",
       "    .dataframe thead th {\n",
       "        text-align: right;\n",
       "    }\n",
       "</style>\n",
       "<table border=\"1\" class=\"dataframe\">\n",
       "  <thead>\n",
       "    <tr style=\"text-align: right;\">\n",
       "      <th></th>\n",
       "      <th>school_name</th>\n",
       "      <th>total_SAT</th>\n",
       "    </tr>\n",
       "  </thead>\n",
       "  <tbody>\n",
       "    <tr>\n",
       "      <th>88</th>\n",
       "      <td>Stuyvesant High School</td>\n",
       "      <td>2144</td>\n",
       "    </tr>\n",
       "    <tr>\n",
       "      <th>170</th>\n",
       "      <td>Bronx High School of Science</td>\n",
       "      <td>2041</td>\n",
       "    </tr>\n",
       "    <tr>\n",
       "      <th>93</th>\n",
       "      <td>Staten Island Technical High School</td>\n",
       "      <td>2041</td>\n",
       "    </tr>\n",
       "    <tr>\n",
       "      <th>174</th>\n",
       "      <td>High School of American Studies at Lehman College</td>\n",
       "      <td>2013</td>\n",
       "    </tr>\n",
       "    <tr>\n",
       "      <th>333</th>\n",
       "      <td>Townsend Harris High School</td>\n",
       "      <td>1981</td>\n",
       "    </tr>\n",
       "    <tr>\n",
       "      <th>365</th>\n",
       "      <td>Queens High School for the Sciences at York Co...</td>\n",
       "      <td>1947</td>\n",
       "    </tr>\n",
       "    <tr>\n",
       "      <th>5</th>\n",
       "      <td>Bard High School Early College</td>\n",
       "      <td>1914</td>\n",
       "    </tr>\n",
       "    <tr>\n",
       "      <th>280</th>\n",
       "      <td>Brooklyn Technical High School</td>\n",
       "      <td>1896</td>\n",
       "    </tr>\n",
       "    <tr>\n",
       "      <th>45</th>\n",
       "      <td>Eleanor Roosevelt High School</td>\n",
       "      <td>1889</td>\n",
       "    </tr>\n",
       "    <tr>\n",
       "      <th>68</th>\n",
       "      <td>High School for Mathematics, Science, and Engi...</td>\n",
       "      <td>1889</td>\n",
       "    </tr>\n",
       "  </tbody>\n",
       "</table>\n",
       "</div>"
      ],
      "text/plain": [
       "                                           school_name  total_SAT\n",
       "88                              Stuyvesant High School       2144\n",
       "170                       Bronx High School of Science       2041\n",
       "93                 Staten Island Technical High School       2041\n",
       "174  High School of American Studies at Lehman College       2013\n",
       "333                        Townsend Harris High School       1981\n",
       "365  Queens High School for the Sciences at York Co...       1947\n",
       "5                       Bard High School Early College       1914\n",
       "280                     Brooklyn Technical High School       1896\n",
       "45                       Eleanor Roosevelt High School       1889\n",
       "68   High School for Mathematics, Science, and Engi...       1889"
      ]
     },
     "execution_count": 27,
     "metadata": {},
     "output_type": "execute_result"
    }
   ],
   "source": [
    "top_10_schools"
   ]
  },
  {
   "cell_type": "code",
   "execution_count": 29,
   "id": "43dfb696-79e6-4cd2-9688-c1c6a5bbe3c1",
   "metadata": {},
   "outputs": [
    {
     "name": "stdout",
     "output_type": "stream",
     "text": [
      "     borough  average_SAT  std_SAT  num_schools\n",
      "2  Manhattan      1340.13   230.29           89\n"
     ]
    }
   ],
   "source": [
    "# Group by borough and calculate statistics\n",
    "borough_stats = schools.groupby(\"borough\")[\"total_SAT\"].agg([\"mean\",\"std\",\"count\"]).reset_index()\n",
    "\n",
    "# Rename columns\n",
    "borough_stats.columns = [\"borough\", \"average_SAT\", \"std_SAT\", \"num_schools\"]\n",
    "\n",
    "# Borough with the largest standard deviation\n",
    "largest_std_dev = borough_stats.sort_values(\"std_SAT\", ascending = False).head(1).round(2)\n",
    "\n",
    "\n",
    "print(largest_std_dev)"
   ]
  },
  {
   "cell_type": "code",
   "execution_count": null,
   "id": "ed36a2db-1547-4bb0-af50-2ffe4608d268",
   "metadata": {},
   "outputs": [],
   "source": []
  }
 ],
 "metadata": {
  "kernelspec": {
   "display_name": "Python [conda env:base] *",
   "language": "python",
   "name": "conda-base-py"
  },
  "language_info": {
   "codemirror_mode": {
    "name": "ipython",
    "version": 3
   },
   "file_extension": ".py",
   "mimetype": "text/x-python",
   "name": "python",
   "nbconvert_exporter": "python",
   "pygments_lexer": "ipython3",
   "version": "3.12.7"
  }
 },
 "nbformat": 4,
 "nbformat_minor": 5
}
