{
 "cells": [
  {
   "cell_type": "code",
   "execution_count": 3,
   "id": "66f69d10-3410-4467-95aa-2c8ce394ca2c",
   "metadata": {},
   "outputs": [],
   "source": []
  },
  {
   "cell_type": "code",
   "execution_count": 3,
   "id": "fee43d6c-6683-484d-a10a-3c977ee00ee6",
   "metadata": {},
   "outputs": [],
   "source": [
    "import pandas as pd\n",
    "import matplotlib.pyplot as plt\n",
    "import seaborn as sns\n",
    "import scipy.stats as ss\n",
    "import numpy as np\n",
    "import sklearn\n",
    "from sklearn.linear_model import LinearRegression, LogisticRegression"
   ]
  },
  {
   "cell_type": "code",
   "execution_count": null,
   "id": "b9bdada9-bd58-476c-8fab-cfcab5351dcb",
   "metadata": {},
   "outputs": [],
   "source": []
  },
  {
   "cell_type": "code",
   "execution_count": null,
   "id": "a4a806cc-2e4b-4e0d-9573-42508fa6351f",
   "metadata": {},
   "outputs": [],
   "source": []
  },
  {
   "cell_type": "code",
   "execution_count": 8,
   "id": "c0893bd3-1b1e-48ec-8139-4b39b70c8afd",
   "metadata": {},
   "outputs": [],
   "source": [
    "df = pd.read_csv(\"kaggle-preprocessed.csv\")"
   ]
  },
  {
   "cell_type": "markdown",
   "id": "d9249c76-6214-46fc-924b-04006a00e508",
   "metadata": {},
   "source": [
    "## EDA"
   ]
  },
  {
   "cell_type": "code",
   "execution_count": 217,
   "id": "4e9105d7-bd51-4248-ae13-7dbdb22c413a",
   "metadata": {},
   "outputs": [
    {
     "data": {
      "text/html": [
       "<div>\n",
       "<style scoped>\n",
       "    .dataframe tbody tr th:only-of-type {\n",
       "        vertical-align: middle;\n",
       "    }\n",
       "\n",
       "    .dataframe tbody tr th {\n",
       "        vertical-align: top;\n",
       "    }\n",
       "\n",
       "    .dataframe thead th {\n",
       "        text-align: right;\n",
       "    }\n",
       "</style>\n",
       "<table border=\"1\" class=\"dataframe\">\n",
       "  <thead>\n",
       "    <tr style=\"text-align: right;\">\n",
       "      <th></th>\n",
       "      <th>Unnamed: 0</th>\n",
       "      <th>Dataset_name</th>\n",
       "      <th>Author_name</th>\n",
       "      <th>Author_id</th>\n",
       "      <th>No_of_files</th>\n",
       "      <th>size</th>\n",
       "      <th>Type_of_file</th>\n",
       "      <th>Upvotes</th>\n",
       "      <th>Medals</th>\n",
       "      <th>Usability</th>\n",
       "      <th>Date</th>\n",
       "      <th>Day</th>\n",
       "      <th>Time</th>\n",
       "      <th>Dataset_link</th>\n",
       "    </tr>\n",
       "  </thead>\n",
       "  <tbody>\n",
       "    <tr>\n",
       "      <th>0</th>\n",
       "      <td>0</td>\n",
       "      <td>Hotel Reservations Dataset</td>\n",
       "      <td>Ahsan Raza</td>\n",
       "      <td>https://www.kaggle.com/ahsan81</td>\n",
       "      <td>1</td>\n",
       "      <td>491 kB</td>\n",
       "      <td>CSV</td>\n",
       "      <td>315</td>\n",
       "      <td>Silver</td>\n",
       "      <td>10.0</td>\n",
       "      <td>1/04/2023</td>\n",
       "      <td>Wed</td>\n",
       "      <td>18:20:31</td>\n",
       "      <td>https://www.kaggle.com/datasets/ahsan81/hotel-...</td>\n",
       "    </tr>\n",
       "    <tr>\n",
       "      <th>1</th>\n",
       "      <td>2</td>\n",
       "      <td>Most Subscribed 1000 Youtube Channels</td>\n",
       "      <td>Mrityunjay Pathak</td>\n",
       "      <td>https://www.kaggle.com/themrityunjaypathak</td>\n",
       "      <td>1</td>\n",
       "      <td>29 kB</td>\n",
       "      <td>CSV</td>\n",
       "      <td>76</td>\n",
       "      <td>Bronze</td>\n",
       "      <td>10.0</td>\n",
       "      <td>1/21/2023</td>\n",
       "      <td>Sat</td>\n",
       "      <td>20:12:05</td>\n",
       "      <td>https://www.kaggle.com/datasets/themrityunjayp...</td>\n",
       "    </tr>\n",
       "    <tr>\n",
       "      <th>2</th>\n",
       "      <td>3</td>\n",
       "      <td>Olympics 124 years Dataset(till 2020)</td>\n",
       "      <td>Nitish Sharma01</td>\n",
       "      <td>https://www.kaggle.com/nitishsharma01</td>\n",
       "      <td>3</td>\n",
       "      <td>5 MB</td>\n",
       "      <td>CSV</td>\n",
       "      <td>30</td>\n",
       "      <td>Bronze</td>\n",
       "      <td>10.0</td>\n",
       "      <td>2/01/2023</td>\n",
       "      <td>Wed</td>\n",
       "      <td>14:30:49</td>\n",
       "      <td>https://www.kaggle.com/datasets/nitishsharma01...</td>\n",
       "    </tr>\n",
       "    <tr>\n",
       "      <th>3</th>\n",
       "      <td>4</td>\n",
       "      <td>Medical Student Mental Health</td>\n",
       "      <td>The Devastator</td>\n",
       "      <td>https://www.kaggle.com/thedevastator</td>\n",
       "      <td>2</td>\n",
       "      <td>19 kB</td>\n",
       "      <td>CSV</td>\n",
       "      <td>37</td>\n",
       "      <td>Bronze</td>\n",
       "      <td>10.0</td>\n",
       "      <td>1/25/2023</td>\n",
       "      <td>Wed</td>\n",
       "      <td>06:30:14</td>\n",
       "      <td>https://www.kaggle.com/datasets/thedevastator/...</td>\n",
       "    </tr>\n",
       "    <tr>\n",
       "      <th>4</th>\n",
       "      <td>5</td>\n",
       "      <td>Latest Netflix TV shows and movies</td>\n",
       "      <td>Senapati Rajesh</td>\n",
       "      <td>https://www.kaggle.com/senapatirajesh</td>\n",
       "      <td>1</td>\n",
       "      <td>1 MB</td>\n",
       "      <td>CSV</td>\n",
       "      <td>94</td>\n",
       "      <td>Bronze</td>\n",
       "      <td>9.4</td>\n",
       "      <td>1/14/2023</td>\n",
       "      <td>Sat</td>\n",
       "      <td>22:33:12</td>\n",
       "      <td>https://www.kaggle.com/datasets/senapatirajesh...</td>\n",
       "    </tr>\n",
       "  </tbody>\n",
       "</table>\n",
       "</div>"
      ],
      "text/plain": [
       "   Unnamed: 0                           Dataset_name        Author_name  \\\n",
       "0           0             Hotel Reservations Dataset         Ahsan Raza   \n",
       "1           2  Most Subscribed 1000 Youtube Channels  Mrityunjay Pathak   \n",
       "2           3  Olympics 124 years Dataset(till 2020)    Nitish Sharma01   \n",
       "3           4          Medical Student Mental Health     The Devastator   \n",
       "4           5     Latest Netflix TV shows and movies    Senapati Rajesh   \n",
       "\n",
       "                                    Author_id  No_of_files    size  \\\n",
       "0              https://www.kaggle.com/ahsan81            1  491 kB   \n",
       "1  https://www.kaggle.com/themrityunjaypathak            1   29 kB   \n",
       "2       https://www.kaggle.com/nitishsharma01            3    5 MB   \n",
       "3        https://www.kaggle.com/thedevastator            2   19 kB   \n",
       "4       https://www.kaggle.com/senapatirajesh            1    1 MB   \n",
       "\n",
       "  Type_of_file  Upvotes  Medals  Usability       Date  Day      Time  \\\n",
       "0          CSV      315  Silver       10.0  1/04/2023  Wed  18:20:31   \n",
       "1          CSV       76  Bronze       10.0  1/21/2023  Sat  20:12:05   \n",
       "2          CSV       30  Bronze       10.0  2/01/2023  Wed  14:30:49   \n",
       "3          CSV       37  Bronze       10.0  1/25/2023  Wed  06:30:14   \n",
       "4          CSV       94  Bronze        9.4  1/14/2023  Sat  22:33:12   \n",
       "\n",
       "                                        Dataset_link  \n",
       "0  https://www.kaggle.com/datasets/ahsan81/hotel-...  \n",
       "1  https://www.kaggle.com/datasets/themrityunjayp...  \n",
       "2  https://www.kaggle.com/datasets/nitishsharma01...  \n",
       "3  https://www.kaggle.com/datasets/thedevastator/...  \n",
       "4  https://www.kaggle.com/datasets/senapatirajesh...  "
      ]
     },
     "execution_count": 217,
     "metadata": {},
     "output_type": "execute_result"
    }
   ],
   "source": [
    "#Check in the Data\n",
    "#The first 5 rows of the data\n",
    "df.head(5)"
   ]
  },
  {
   "cell_type": "code",
   "execution_count": 219,
   "id": "78fd2302-814c-4159-8b72-a29202733b59",
   "metadata": {},
   "outputs": [
    {
     "data": {
      "text/plain": [
       "Index(['Unnamed: 0', 'Dataset_name', 'Author_name', 'Author_id', 'No_of_files',\n",
       "       'size', 'Type_of_file', 'Upvotes', 'Medals', 'Usability', 'Date', 'Day',\n",
       "       'Time', 'Dataset_link'],\n",
       "      dtype='object')"
      ]
     },
     "execution_count": 219,
     "metadata": {},
     "output_type": "execute_result"
    }
   ],
   "source": [
    "#See all the columns of the data\n",
    "df.columns"
   ]
  },
  {
   "cell_type": "code",
   "execution_count": 221,
   "id": "cf601620-fe9a-4475-a906-f21b3552a555",
   "metadata": {},
   "outputs": [
    {
     "data": {
      "text/plain": [
       "(9158, 14)"
      ]
     },
     "execution_count": 221,
     "metadata": {},
     "output_type": "execute_result"
    }
   ],
   "source": [
    "#Size of the data\n",
    "df.shape"
   ]
  },
  {
   "cell_type": "code",
   "execution_count": 223,
   "id": "ffff7785-c8b8-4b83-a3fd-82c171a418d1",
   "metadata": {},
   "outputs": [
    {
     "data": {
      "text/plain": [
       "Unnamed: 0        int64\n",
       "Dataset_name     object\n",
       "Author_name      object\n",
       "Author_id        object\n",
       "No_of_files       int64\n",
       "size             object\n",
       "Type_of_file     object\n",
       "Upvotes           int64\n",
       "Medals           object\n",
       "Usability       float64\n",
       "Date             object\n",
       "Day              object\n",
       "Time             object\n",
       "Dataset_link     object\n",
       "dtype: object"
      ]
     },
     "execution_count": 223,
     "metadata": {},
     "output_type": "execute_result"
    }
   ],
   "source": [
    "#Check the data type of each data\n",
    "df.dtypes"
   ]
  },
  {
   "cell_type": "code",
   "execution_count": 300,
   "id": "0a573bd6-b280-4030-a800-a2a14370d5a0",
   "metadata": {},
   "outputs": [],
   "source": [
    "#Select all numerical data \n",
    "num_col_df1 = df.select_dtypes(include=np.number)"
   ]
  },
  {
   "cell_type": "code",
   "execution_count": 302,
   "id": "1f4003f4-b14b-4e15-a327-1fef3a60cf30",
   "metadata": {},
   "outputs": [],
   "source": [
    "num_col_list = df.select_dtypes(include=np.number).columns.tolist()"
   ]
  },
  {
   "cell_type": "code",
   "execution_count": 232,
   "id": "919e3e83-b479-450c-8eb0-8e0ae8230aaf",
   "metadata": {},
   "outputs": [
    {
     "data": {
      "text/plain": [
       "Unnamed: 0      0\n",
       "Dataset_name    0\n",
       "Author_name     0\n",
       "Author_id       0\n",
       "No_of_files     0\n",
       "size            0\n",
       "Type_of_file    2\n",
       "Upvotes         0\n",
       "Medals          0\n",
       "Usability       0\n",
       "Date            0\n",
       "Day             0\n",
       "Time            0\n",
       "Dataset_link    0\n",
       "dtype: int64"
      ]
     },
     "execution_count": 232,
     "metadata": {},
     "output_type": "execute_result"
    }
   ],
   "source": [
    "df.isna().sum()"
   ]
  },
  {
   "cell_type": "code",
   "execution_count": 239,
   "id": "17b5a6ab-46bf-4634-9508-d4c3e8469b44",
   "metadata": {},
   "outputs": [
    {
     "data": {
      "text/plain": [
       "['Dataset_name',\n",
       " 'Author_name',\n",
       " 'Author_id',\n",
       " 'size',\n",
       " 'Type_of_file',\n",
       " 'Medals',\n",
       " 'Date',\n",
       " 'Day',\n",
       " 'Time',\n",
       " 'Dataset_link']"
      ]
     },
     "execution_count": 239,
     "metadata": {},
     "output_type": "execute_result"
    }
   ],
   "source": [
    "categorical_columns_2"
   ]
  },
  {
   "cell_type": "code",
   "execution_count": 241,
   "id": "37fed946-d19c-4902-9063-ca443bdfa13b",
   "metadata": {},
   "outputs": [],
   "source": []
  },
  {
   "cell_type": "code",
   "execution_count": 247,
   "id": "0eccfa6e-b2bd-41e7-a3da-1399fec0710c",
   "metadata": {},
   "outputs": [],
   "source": [
    "categorical_columns_2 = df.select_dtypes(include='object').columns.tolist()"
   ]
  },
  {
   "cell_type": "code",
   "execution_count": 249,
   "id": "9df71525-3dd8-4c50-a279-f3eca89a0d3e",
   "metadata": {},
   "outputs": [
    {
     "data": {
      "text/plain": [
       "['Dataset_name',\n",
       " 'Author_name',\n",
       " 'Author_id',\n",
       " 'size',\n",
       " 'Type_of_file',\n",
       " 'Medals',\n",
       " 'Date',\n",
       " 'Day',\n",
       " 'Time',\n",
       " 'Dataset_link']"
      ]
     },
     "execution_count": 249,
     "metadata": {},
     "output_type": "execute_result"
    }
   ],
   "source": [
    "categorical_columns_2"
   ]
  },
  {
   "cell_type": "code",
   "execution_count": 279,
   "id": "a2b4cae0-bb7b-4f64-a922-eb66b794c314",
   "metadata": {},
   "outputs": [],
   "source": [
    "num_col_list = df.select_dtypes(include='number').columns.tolist()"
   ]
  },
  {
   "cell_type": "code",
   "execution_count": 265,
   "id": "2d0144dc-1351-4bea-a08b-c2320a8664b6",
   "metadata": {},
   "outputs": [],
   "source": [
    "num_col_df = df.select_dtypes(include='number')"
   ]
  },
  {
   "cell_type": "code",
   "execution_count": 310,
   "id": "48b6c047-12f6-4202-bc53-91438531fee0",
   "metadata": {},
   "outputs": [],
   "source": [
    "df = df.dropna()"
   ]
  },
  {
   "cell_type": "code",
   "execution_count": 318,
   "id": "a73dd06a-9cbe-40b2-a508-9963065a015f",
   "metadata": {},
   "outputs": [],
   "source": [
    "#Clean the data\n",
    "df = df.dropna()"
   ]
  },
  {
   "cell_type": "code",
   "execution_count": 322,
   "id": "cbf045a8-3838-4359-90fa-6496f196dcf3",
   "metadata": {},
   "outputs": [],
   "source": [
    "df[\"Date\"]= pd.to_datetime(df[\"Date\"])"
   ]
  },
  {
   "cell_type": "code",
   "execution_count": 326,
   "id": "82636116-3695-4bb3-bd51-22e749be65b5",
   "metadata": {},
   "outputs": [
    {
     "name": "stderr",
     "output_type": "stream",
     "text": [
      "C:\\Users\\Usuario\\AppData\\Local\\Temp\\ipykernel_2656\\3349344153.py:1: UserWarning: Could not infer format, so each element will be parsed individually, falling back to `dateutil`. To ensure parsing is consistent and as-expected, please specify a format.\n",
      "  df[\"Time\"] = pd.to_datetime(df[\"Time\"])\n"
     ]
    }
   ],
   "source": [
    "df[\"Time\"] = pd.to_datetime(df[\"Time\"])"
   ]
  },
  {
   "cell_type": "code",
   "execution_count": 328,
   "id": "bf8481a6-d83f-4adc-87de-13be1b729c8a",
   "metadata": {},
   "outputs": [
    {
     "data": {
      "text/plain": [
       "Unnamed: 0               int64\n",
       "Dataset_name            object\n",
       "Author_name             object\n",
       "Author_id               object\n",
       "No_of_files              int64\n",
       "size                    object\n",
       "Type_of_file            object\n",
       "Upvotes                  int64\n",
       "Medals                  object\n",
       "Usability              float64\n",
       "Date            datetime64[ns]\n",
       "Day                     object\n",
       "Time            datetime64[ns]\n",
       "Dataset_link            object\n",
       "dtype: object"
      ]
     },
     "execution_count": 328,
     "metadata": {},
     "output_type": "execute_result"
    }
   ],
   "source": [
    "df.dtypes"
   ]
  },
  {
   "cell_type": "code",
   "execution_count": 360,
   "id": "6b57b9ce-fbd2-41c7-a8a6-3f4cb2208370",
   "metadata": {
    "scrolled": true
   },
   "outputs": [
    {
     "data": {
      "text/html": [
       "<div>\n",
       "<style scoped>\n",
       "    .dataframe tbody tr th:only-of-type {\n",
       "        vertical-align: middle;\n",
       "    }\n",
       "\n",
       "    .dataframe tbody tr th {\n",
       "        vertical-align: top;\n",
       "    }\n",
       "\n",
       "    .dataframe thead th {\n",
       "        text-align: right;\n",
       "    }\n",
       "</style>\n",
       "<table border=\"1\" class=\"dataframe\">\n",
       "  <thead>\n",
       "    <tr style=\"text-align: right;\">\n",
       "      <th></th>\n",
       "      <th>Unnamed: 0</th>\n",
       "      <th>Dataset_name</th>\n",
       "      <th>Author_name</th>\n",
       "      <th>Author_id</th>\n",
       "      <th>No_of_files</th>\n",
       "      <th>size</th>\n",
       "      <th>Type_of_file</th>\n",
       "      <th>Upvotes</th>\n",
       "      <th>Medals</th>\n",
       "      <th>Usability</th>\n",
       "      <th>Date</th>\n",
       "      <th>Day</th>\n",
       "      <th>Time</th>\n",
       "    </tr>\n",
       "  </thead>\n",
       "  <tbody>\n",
       "    <tr>\n",
       "      <th>0</th>\n",
       "      <td>0</td>\n",
       "      <td>Hotel Reservations Dataset</td>\n",
       "      <td>Ahsan Raza</td>\n",
       "      <td>https://www.kaggle.com/ahsan81</td>\n",
       "      <td>1</td>\n",
       "      <td>491 kB</td>\n",
       "      <td>CSV</td>\n",
       "      <td>315</td>\n",
       "      <td>Silver</td>\n",
       "      <td>10.0</td>\n",
       "      <td>2023-01-04</td>\n",
       "      <td>Wed</td>\n",
       "      <td>2025-05-15 18:20:31</td>\n",
       "    </tr>\n",
       "    <tr>\n",
       "      <th>1</th>\n",
       "      <td>2</td>\n",
       "      <td>Most Subscribed 1000 Youtube Channels</td>\n",
       "      <td>Mrityunjay Pathak</td>\n",
       "      <td>https://www.kaggle.com/themrityunjaypathak</td>\n",
       "      <td>1</td>\n",
       "      <td>29 kB</td>\n",
       "      <td>CSV</td>\n",
       "      <td>76</td>\n",
       "      <td>Bronze</td>\n",
       "      <td>10.0</td>\n",
       "      <td>2023-01-21</td>\n",
       "      <td>Sat</td>\n",
       "      <td>2025-05-15 20:12:05</td>\n",
       "    </tr>\n",
       "    <tr>\n",
       "      <th>2</th>\n",
       "      <td>3</td>\n",
       "      <td>Olympics 124 years Dataset(till 2020)</td>\n",
       "      <td>Nitish Sharma01</td>\n",
       "      <td>https://www.kaggle.com/nitishsharma01</td>\n",
       "      <td>3</td>\n",
       "      <td>5 MB</td>\n",
       "      <td>CSV</td>\n",
       "      <td>30</td>\n",
       "      <td>Bronze</td>\n",
       "      <td>10.0</td>\n",
       "      <td>2023-02-01</td>\n",
       "      <td>Wed</td>\n",
       "      <td>2025-05-15 14:30:49</td>\n",
       "    </tr>\n",
       "    <tr>\n",
       "      <th>3</th>\n",
       "      <td>4</td>\n",
       "      <td>Medical Student Mental Health</td>\n",
       "      <td>The Devastator</td>\n",
       "      <td>https://www.kaggle.com/thedevastator</td>\n",
       "      <td>2</td>\n",
       "      <td>19 kB</td>\n",
       "      <td>CSV</td>\n",
       "      <td>37</td>\n",
       "      <td>Bronze</td>\n",
       "      <td>10.0</td>\n",
       "      <td>2023-01-25</td>\n",
       "      <td>Wed</td>\n",
       "      <td>2025-05-15 06:30:14</td>\n",
       "    </tr>\n",
       "    <tr>\n",
       "      <th>4</th>\n",
       "      <td>5</td>\n",
       "      <td>Latest Netflix TV shows and movies</td>\n",
       "      <td>Senapati Rajesh</td>\n",
       "      <td>https://www.kaggle.com/senapatirajesh</td>\n",
       "      <td>1</td>\n",
       "      <td>1 MB</td>\n",
       "      <td>CSV</td>\n",
       "      <td>94</td>\n",
       "      <td>Bronze</td>\n",
       "      <td>9.4</td>\n",
       "      <td>2023-01-14</td>\n",
       "      <td>Sat</td>\n",
       "      <td>2025-05-15 22:33:12</td>\n",
       "    </tr>\n",
       "  </tbody>\n",
       "</table>\n",
       "</div>"
      ],
      "text/plain": [
       "   Unnamed: 0                           Dataset_name        Author_name  \\\n",
       "0           0             Hotel Reservations Dataset         Ahsan Raza   \n",
       "1           2  Most Subscribed 1000 Youtube Channels  Mrityunjay Pathak   \n",
       "2           3  Olympics 124 years Dataset(till 2020)    Nitish Sharma01   \n",
       "3           4          Medical Student Mental Health     The Devastator   \n",
       "4           5     Latest Netflix TV shows and movies    Senapati Rajesh   \n",
       "\n",
       "                                    Author_id  No_of_files    size  \\\n",
       "0              https://www.kaggle.com/ahsan81            1  491 kB   \n",
       "1  https://www.kaggle.com/themrityunjaypathak            1   29 kB   \n",
       "2       https://www.kaggle.com/nitishsharma01            3    5 MB   \n",
       "3        https://www.kaggle.com/thedevastator            2   19 kB   \n",
       "4       https://www.kaggle.com/senapatirajesh            1    1 MB   \n",
       "\n",
       "  Type_of_file  Upvotes  Medals  Usability       Date  Day                Time  \n",
       "0          CSV      315  Silver       10.0 2023-01-04  Wed 2025-05-15 18:20:31  \n",
       "1          CSV       76  Bronze       10.0 2023-01-21  Sat 2025-05-15 20:12:05  \n",
       "2          CSV       30  Bronze       10.0 2023-02-01  Wed 2025-05-15 14:30:49  \n",
       "3          CSV       37  Bronze       10.0 2023-01-25  Wed 2025-05-15 06:30:14  \n",
       "4          CSV       94  Bronze        9.4 2023-01-14  Sat 2025-05-15 22:33:12  "
      ]
     },
     "execution_count": 360,
     "metadata": {},
     "output_type": "execute_result"
    }
   ],
   "source": [
    "df.head(5)"
   ]
  },
  {
   "cell_type": "code",
   "execution_count": 10,
   "id": "e98dbf98-7782-4b33-b449-a0bf77d6c864",
   "metadata": {},
   "outputs": [],
   "source": [
    "df = df.drop([\"Dataset_link\"], axis = 1)"
   ]
  },
  {
   "cell_type": "code",
   "execution_count": 364,
   "id": "a1c03275-e444-48b1-b7c5-4e830105e42d",
   "metadata": {},
   "outputs": [],
   "source": [
    "df = df.drop([\"Author_id\"], axis = 1)"
   ]
  },
  {
   "cell_type": "code",
   "execution_count": 366,
   "id": "c41b443c-d170-4d57-b493-a1b44e6169f8",
   "metadata": {},
   "outputs": [
    {
     "data": {
      "text/html": [
       "<div>\n",
       "<style scoped>\n",
       "    .dataframe tbody tr th:only-of-type {\n",
       "        vertical-align: middle;\n",
       "    }\n",
       "\n",
       "    .dataframe tbody tr th {\n",
       "        vertical-align: top;\n",
       "    }\n",
       "\n",
       "    .dataframe thead th {\n",
       "        text-align: right;\n",
       "    }\n",
       "</style>\n",
       "<table border=\"1\" class=\"dataframe\">\n",
       "  <thead>\n",
       "    <tr style=\"text-align: right;\">\n",
       "      <th></th>\n",
       "      <th>Unnamed: 0</th>\n",
       "      <th>Dataset_name</th>\n",
       "      <th>Author_name</th>\n",
       "      <th>No_of_files</th>\n",
       "      <th>size</th>\n",
       "      <th>Type_of_file</th>\n",
       "      <th>Upvotes</th>\n",
       "      <th>Medals</th>\n",
       "      <th>Usability</th>\n",
       "      <th>Date</th>\n",
       "      <th>Day</th>\n",
       "      <th>Time</th>\n",
       "    </tr>\n",
       "  </thead>\n",
       "  <tbody>\n",
       "    <tr>\n",
       "      <th>0</th>\n",
       "      <td>0</td>\n",
       "      <td>Hotel Reservations Dataset</td>\n",
       "      <td>Ahsan Raza</td>\n",
       "      <td>1</td>\n",
       "      <td>491 kB</td>\n",
       "      <td>CSV</td>\n",
       "      <td>315</td>\n",
       "      <td>Silver</td>\n",
       "      <td>10.0</td>\n",
       "      <td>2023-01-04</td>\n",
       "      <td>Wed</td>\n",
       "      <td>2025-05-15 18:20:31</td>\n",
       "    </tr>\n",
       "    <tr>\n",
       "      <th>1</th>\n",
       "      <td>2</td>\n",
       "      <td>Most Subscribed 1000 Youtube Channels</td>\n",
       "      <td>Mrityunjay Pathak</td>\n",
       "      <td>1</td>\n",
       "      <td>29 kB</td>\n",
       "      <td>CSV</td>\n",
       "      <td>76</td>\n",
       "      <td>Bronze</td>\n",
       "      <td>10.0</td>\n",
       "      <td>2023-01-21</td>\n",
       "      <td>Sat</td>\n",
       "      <td>2025-05-15 20:12:05</td>\n",
       "    </tr>\n",
       "    <tr>\n",
       "      <th>2</th>\n",
       "      <td>3</td>\n",
       "      <td>Olympics 124 years Dataset(till 2020)</td>\n",
       "      <td>Nitish Sharma01</td>\n",
       "      <td>3</td>\n",
       "      <td>5 MB</td>\n",
       "      <td>CSV</td>\n",
       "      <td>30</td>\n",
       "      <td>Bronze</td>\n",
       "      <td>10.0</td>\n",
       "      <td>2023-02-01</td>\n",
       "      <td>Wed</td>\n",
       "      <td>2025-05-15 14:30:49</td>\n",
       "    </tr>\n",
       "    <tr>\n",
       "      <th>3</th>\n",
       "      <td>4</td>\n",
       "      <td>Medical Student Mental Health</td>\n",
       "      <td>The Devastator</td>\n",
       "      <td>2</td>\n",
       "      <td>19 kB</td>\n",
       "      <td>CSV</td>\n",
       "      <td>37</td>\n",
       "      <td>Bronze</td>\n",
       "      <td>10.0</td>\n",
       "      <td>2023-01-25</td>\n",
       "      <td>Wed</td>\n",
       "      <td>2025-05-15 06:30:14</td>\n",
       "    </tr>\n",
       "    <tr>\n",
       "      <th>4</th>\n",
       "      <td>5</td>\n",
       "      <td>Latest Netflix TV shows and movies</td>\n",
       "      <td>Senapati Rajesh</td>\n",
       "      <td>1</td>\n",
       "      <td>1 MB</td>\n",
       "      <td>CSV</td>\n",
       "      <td>94</td>\n",
       "      <td>Bronze</td>\n",
       "      <td>9.4</td>\n",
       "      <td>2023-01-14</td>\n",
       "      <td>Sat</td>\n",
       "      <td>2025-05-15 22:33:12</td>\n",
       "    </tr>\n",
       "    <tr>\n",
       "      <th>...</th>\n",
       "      <td>...</td>\n",
       "      <td>...</td>\n",
       "      <td>...</td>\n",
       "      <td>...</td>\n",
       "      <td>...</td>\n",
       "      <td>...</td>\n",
       "      <td>...</td>\n",
       "      <td>...</td>\n",
       "      <td>...</td>\n",
       "      <td>...</td>\n",
       "      <td>...</td>\n",
       "      <td>...</td>\n",
       "    </tr>\n",
       "    <tr>\n",
       "      <th>9153</th>\n",
       "      <td>9966</td>\n",
       "      <td>bankdata</td>\n",
       "      <td>Jochein</td>\n",
       "      <td>7</td>\n",
       "      <td>1 MB</td>\n",
       "      <td>CSV, other</td>\n",
       "      <td>1</td>\n",
       "      <td>No Medal</td>\n",
       "      <td>1.8</td>\n",
       "      <td>2022-12-31</td>\n",
       "      <td>Sat</td>\n",
       "      <td>2025-05-15 14:38:17</td>\n",
       "    </tr>\n",
       "    <tr>\n",
       "      <th>9154</th>\n",
       "      <td>9967</td>\n",
       "      <td>Simpsons Episodes &amp; Ratings (1989-)</td>\n",
       "      <td>Jonathan Bown</td>\n",
       "      <td>2</td>\n",
       "      <td>163 kB</td>\n",
       "      <td>CSV</td>\n",
       "      <td>42</td>\n",
       "      <td>Silver</td>\n",
       "      <td>10.0</td>\n",
       "      <td>2022-12-27</td>\n",
       "      <td>Tue</td>\n",
       "      <td>2025-05-15 23:38:50</td>\n",
       "    </tr>\n",
       "    <tr>\n",
       "      <th>9155</th>\n",
       "      <td>9968</td>\n",
       "      <td>Video Game Dataset</td>\n",
       "      <td>Trung Hoang</td>\n",
       "      <td>1</td>\n",
       "      <td>22 MB</td>\n",
       "      <td>CSV</td>\n",
       "      <td>38</td>\n",
       "      <td>No Medal</td>\n",
       "      <td>8.2</td>\n",
       "      <td>2020-12-23</td>\n",
       "      <td>Wed</td>\n",
       "      <td>2025-05-15 10:24:53</td>\n",
       "    </tr>\n",
       "    <tr>\n",
       "      <th>9156</th>\n",
       "      <td>9969</td>\n",
       "      <td>deberta-v3-small</td>\n",
       "      <td>miwojc</td>\n",
       "      <td>6</td>\n",
       "      <td>600 MB</td>\n",
       "      <td>other, JSON</td>\n",
       "      <td>3</td>\n",
       "      <td>No Medal</td>\n",
       "      <td>1.9</td>\n",
       "      <td>2022-04-21</td>\n",
       "      <td>Thu</td>\n",
       "      <td>2025-05-15 11:43:36</td>\n",
       "    </tr>\n",
       "    <tr>\n",
       "      <th>9157</th>\n",
       "      <td>9970</td>\n",
       "      <td>Israeli Premier League - Team stats 2016-20</td>\n",
       "      <td>Ido Yoely</td>\n",
       "      <td>1</td>\n",
       "      <td>145 kB</td>\n",
       "      <td>CSV</td>\n",
       "      <td>4</td>\n",
       "      <td>No Medal</td>\n",
       "      <td>9.7</td>\n",
       "      <td>2020-04-05</td>\n",
       "      <td>Sun</td>\n",
       "      <td>2025-05-15 14:23:01</td>\n",
       "    </tr>\n",
       "  </tbody>\n",
       "</table>\n",
       "<p>9156 rows × 12 columns</p>\n",
       "</div>"
      ],
      "text/plain": [
       "      Unnamed: 0                                 Dataset_name  \\\n",
       "0              0                   Hotel Reservations Dataset   \n",
       "1              2        Most Subscribed 1000 Youtube Channels   \n",
       "2              3        Olympics 124 years Dataset(till 2020)   \n",
       "3              4                Medical Student Mental Health   \n",
       "4              5           Latest Netflix TV shows and movies   \n",
       "...          ...                                          ...   \n",
       "9153        9966                                     bankdata   \n",
       "9154        9967          Simpsons Episodes & Ratings (1989-)   \n",
       "9155        9968                           Video Game Dataset   \n",
       "9156        9969                             deberta-v3-small   \n",
       "9157        9970  Israeli Premier League - Team stats 2016-20   \n",
       "\n",
       "            Author_name  No_of_files    size Type_of_file  Upvotes    Medals  \\\n",
       "0            Ahsan Raza            1  491 kB          CSV      315    Silver   \n",
       "1     Mrityunjay Pathak            1   29 kB          CSV       76    Bronze   \n",
       "2       Nitish Sharma01            3    5 MB          CSV       30    Bronze   \n",
       "3        The Devastator            2   19 kB          CSV       37    Bronze   \n",
       "4       Senapati Rajesh            1    1 MB          CSV       94    Bronze   \n",
       "...                 ...          ...     ...          ...      ...       ...   \n",
       "9153            Jochein            7    1 MB   CSV, other        1  No Medal   \n",
       "9154      Jonathan Bown            2  163 kB          CSV       42    Silver   \n",
       "9155        Trung Hoang            1   22 MB          CSV       38  No Medal   \n",
       "9156             miwojc            6  600 MB  other, JSON        3  No Medal   \n",
       "9157          Ido Yoely            1  145 kB          CSV        4  No Medal   \n",
       "\n",
       "      Usability       Date  Day                Time  \n",
       "0          10.0 2023-01-04  Wed 2025-05-15 18:20:31  \n",
       "1          10.0 2023-01-21  Sat 2025-05-15 20:12:05  \n",
       "2          10.0 2023-02-01  Wed 2025-05-15 14:30:49  \n",
       "3          10.0 2023-01-25  Wed 2025-05-15 06:30:14  \n",
       "4           9.4 2023-01-14  Sat 2025-05-15 22:33:12  \n",
       "...         ...        ...  ...                 ...  \n",
       "9153        1.8 2022-12-31  Sat 2025-05-15 14:38:17  \n",
       "9154       10.0 2022-12-27  Tue 2025-05-15 23:38:50  \n",
       "9155        8.2 2020-12-23  Wed 2025-05-15 10:24:53  \n",
       "9156        1.9 2022-04-21  Thu 2025-05-15 11:43:36  \n",
       "9157        9.7 2020-04-05  Sun 2025-05-15 14:23:01  \n",
       "\n",
       "[9156 rows x 12 columns]"
      ]
     },
     "execution_count": 366,
     "metadata": {},
     "output_type": "execute_result"
    }
   ],
   "source": [
    "df"
   ]
  },
  {
   "cell_type": "code",
   "execution_count": 372,
   "id": "f2bea958-8bd3-4b57-8189-a3958e922ea0",
   "metadata": {},
   "outputs": [],
   "source": [
    "num_col = df.select_dtypes(include = \"number\").columns.tolist()"
   ]
  },
  {
   "cell_type": "code",
   "execution_count": 374,
   "id": "76d35463-5fee-4773-a112-b7b1684a3fcf",
   "metadata": {},
   "outputs": [
    {
     "data": {
      "text/plain": [
       "['Unnamed: 0', 'No_of_files', 'Upvotes', 'Usability']"
      ]
     },
     "execution_count": 374,
     "metadata": {},
     "output_type": "execute_result"
    }
   ],
   "source": [
    "num_col"
   ]
  },
  {
   "cell_type": "code",
   "execution_count": 384,
   "id": "bf3c3c84-0dc7-47f7-a675-548e15d9961f",
   "metadata": {},
   "outputs": [],
   "source": [
    "cat_col = df.select_dtypes(include =\"object\").columns.tolist()"
   ]
  },
  {
   "cell_type": "code",
   "execution_count": 386,
   "id": "f5e943f5-e810-4566-8497-e3e802dcbf36",
   "metadata": {},
   "outputs": [
    {
     "data": {
      "text/plain": [
       "['Dataset_name', 'Author_name', 'size', 'Type_of_file', 'Medals', 'Day']"
      ]
     },
     "execution_count": 386,
     "metadata": {},
     "output_type": "execute_result"
    }
   ],
   "source": [
    "cat_col"
   ]
  },
  {
   "cell_type": "code",
   "execution_count": 388,
   "id": "b8618935-ef83-49a7-95eb-10504ed881e3",
   "metadata": {},
   "outputs": [],
   "source": [
    "#Find all the golddataset\n",
    "goal_data_set = df[df[\"Medals\"]=='Gold']"
   ]
  },
  {
   "cell_type": "code",
   "execution_count": 390,
   "id": "13817bc9-6e10-4268-b7c0-5b955bdde913",
   "metadata": {},
   "outputs": [
    {
     "data": {
      "text/html": [
       "<div>\n",
       "<style scoped>\n",
       "    .dataframe tbody tr th:only-of-type {\n",
       "        vertical-align: middle;\n",
       "    }\n",
       "\n",
       "    .dataframe tbody tr th {\n",
       "        vertical-align: top;\n",
       "    }\n",
       "\n",
       "    .dataframe thead th {\n",
       "        text-align: right;\n",
       "    }\n",
       "</style>\n",
       "<table border=\"1\" class=\"dataframe\">\n",
       "  <thead>\n",
       "    <tr style=\"text-align: right;\">\n",
       "      <th></th>\n",
       "      <th>Unnamed: 0</th>\n",
       "      <th>Dataset_name</th>\n",
       "      <th>Author_name</th>\n",
       "      <th>No_of_files</th>\n",
       "      <th>size</th>\n",
       "      <th>Type_of_file</th>\n",
       "      <th>Upvotes</th>\n",
       "      <th>Medals</th>\n",
       "      <th>Usability</th>\n",
       "      <th>Date</th>\n",
       "      <th>Day</th>\n",
       "      <th>Time</th>\n",
       "    </tr>\n",
       "  </thead>\n",
       "  <tbody>\n",
       "    <tr>\n",
       "      <th>20</th>\n",
       "      <td>21</td>\n",
       "      <td>Melbourne Housing Snapshot</td>\n",
       "      <td>DanB</td>\n",
       "      <td>1</td>\n",
       "      <td>461 kB</td>\n",
       "      <td>CSV</td>\n",
       "      <td>1209</td>\n",
       "      <td>Gold</td>\n",
       "      <td>7.1</td>\n",
       "      <td>2018-06-05</td>\n",
       "      <td>Tue</td>\n",
       "      <td>2025-05-15 18:22:24</td>\n",
       "    </tr>\n",
       "    <tr>\n",
       "      <th>33</th>\n",
       "      <td>34</td>\n",
       "      <td>Trending YouTube Video Statistics</td>\n",
       "      <td>Mitchell J</td>\n",
       "      <td>20</td>\n",
       "      <td>211 MB</td>\n",
       "      <td>CSV, JSON</td>\n",
       "      <td>4866</td>\n",
       "      <td>Gold</td>\n",
       "      <td>7.9</td>\n",
       "      <td>2019-06-03</td>\n",
       "      <td>Mon</td>\n",
       "      <td>2025-05-15 06:26:47</td>\n",
       "    </tr>\n",
       "    <tr>\n",
       "      <th>34</th>\n",
       "      <td>35</td>\n",
       "      <td>Wine Reviews</td>\n",
       "      <td>zackthoutt</td>\n",
       "      <td>3</td>\n",
       "      <td>53 MB</td>\n",
       "      <td>CSV, JSON</td>\n",
       "      <td>3408</td>\n",
       "      <td>Gold</td>\n",
       "      <td>7.9</td>\n",
       "      <td>2017-11-27</td>\n",
       "      <td>Mon</td>\n",
       "      <td>2025-05-15 22:38:04</td>\n",
       "    </tr>\n",
       "    <tr>\n",
       "      <th>35</th>\n",
       "      <td>36</td>\n",
       "      <td>Mobile Price Classification</td>\n",
       "      <td>Abhishek Sharma</td>\n",
       "      <td>2</td>\n",
       "      <td>72 kB</td>\n",
       "      <td>CSV</td>\n",
       "      <td>1492</td>\n",
       "      <td>Gold</td>\n",
       "      <td>7.1</td>\n",
       "      <td>2018-01-28</td>\n",
       "      <td>Sun</td>\n",
       "      <td>2025-05-15 14:14:24</td>\n",
       "    </tr>\n",
       "    <tr>\n",
       "      <th>36</th>\n",
       "      <td>37</td>\n",
       "      <td>Ramen Ratings</td>\n",
       "      <td>Aleksey Bilogur</td>\n",
       "      <td>1</td>\n",
       "      <td>41 kB</td>\n",
       "      <td>CSV</td>\n",
       "      <td>829</td>\n",
       "      <td>Gold</td>\n",
       "      <td>7.1</td>\n",
       "      <td>2018-01-11</td>\n",
       "      <td>Thu</td>\n",
       "      <td>2025-05-15 21:34:39</td>\n",
       "    </tr>\n",
       "    <tr>\n",
       "      <th>...</th>\n",
       "      <td>...</td>\n",
       "      <td>...</td>\n",
       "      <td>...</td>\n",
       "      <td>...</td>\n",
       "      <td>...</td>\n",
       "      <td>...</td>\n",
       "      <td>...</td>\n",
       "      <td>...</td>\n",
       "      <td>...</td>\n",
       "      <td>...</td>\n",
       "      <td>...</td>\n",
       "      <td>...</td>\n",
       "    </tr>\n",
       "    <tr>\n",
       "      <th>8789</th>\n",
       "      <td>9551</td>\n",
       "      <td>siim_dicom_images</td>\n",
       "      <td>Abhishek Thakur</td>\n",
       "      <td>12090</td>\n",
       "      <td>2 GB</td>\n",
       "      <td>other, CSV</td>\n",
       "      <td>86</td>\n",
       "      <td>Gold</td>\n",
       "      <td>2.9</td>\n",
       "      <td>2019-06-26</td>\n",
       "      <td>Wed</td>\n",
       "      <td>2025-05-15 21:36:21</td>\n",
       "    </tr>\n",
       "    <tr>\n",
       "      <th>8805</th>\n",
       "      <td>9568</td>\n",
       "      <td>Chai Time Data Science | CTDS.Show</td>\n",
       "      <td>Vopani</td>\n",
       "      <td>153</td>\n",
       "      <td>3 MB</td>\n",
       "      <td>CSV, other</td>\n",
       "      <td>189</td>\n",
       "      <td>Gold</td>\n",
       "      <td>9.1</td>\n",
       "      <td>2020-07-23</td>\n",
       "      <td>Thu</td>\n",
       "      <td>2025-05-15 22:53:46</td>\n",
       "    </tr>\n",
       "    <tr>\n",
       "      <th>8807</th>\n",
       "      <td>9570</td>\n",
       "      <td>BSE STOCKS DATA - 15 Minute Interval ( Histori...</td>\n",
       "      <td>Saurabh Shahane</td>\n",
       "      <td>154</td>\n",
       "      <td>110 MB</td>\n",
       "      <td>other</td>\n",
       "      <td>64</td>\n",
       "      <td>Gold</td>\n",
       "      <td>5.0</td>\n",
       "      <td>2020-12-18</td>\n",
       "      <td>Fri</td>\n",
       "      <td>2025-05-15 15:45:36</td>\n",
       "    </tr>\n",
       "    <tr>\n",
       "      <th>9075</th>\n",
       "      <td>9878</td>\n",
       "      <td>Clubhouse Dataset 9.7M</td>\n",
       "      <td>Vahid</td>\n",
       "      <td>6</td>\n",
       "      <td>3 GB</td>\n",
       "      <td>other</td>\n",
       "      <td>195</td>\n",
       "      <td>Gold</td>\n",
       "      <td>9.4</td>\n",
       "      <td>2021-06-22</td>\n",
       "      <td>Tue</td>\n",
       "      <td>2025-05-15 10:41:06</td>\n",
       "    </tr>\n",
       "    <tr>\n",
       "      <th>9102</th>\n",
       "      <td>9909</td>\n",
       "      <td>COVID-19 data from World</td>\n",
       "      <td>Arslan Ali</td>\n",
       "      <td>1</td>\n",
       "      <td>12 MB</td>\n",
       "      <td>CSV</td>\n",
       "      <td>109</td>\n",
       "      <td>Gold</td>\n",
       "      <td>9.4</td>\n",
       "      <td>2022-10-02</td>\n",
       "      <td>Sun</td>\n",
       "      <td>2025-05-15 11:26:12</td>\n",
       "    </tr>\n",
       "  </tbody>\n",
       "</table>\n",
       "<p>583 rows × 12 columns</p>\n",
       "</div>"
      ],
      "text/plain": [
       "      Unnamed: 0                                       Dataset_name  \\\n",
       "20            21                         Melbourne Housing Snapshot   \n",
       "33            34                  Trending YouTube Video Statistics   \n",
       "34            35                                       Wine Reviews   \n",
       "35            36                        Mobile Price Classification   \n",
       "36            37                                      Ramen Ratings   \n",
       "...          ...                                                ...   \n",
       "8789        9551                                  siim_dicom_images   \n",
       "8805        9568                 Chai Time Data Science | CTDS.Show   \n",
       "8807        9570  BSE STOCKS DATA - 15 Minute Interval ( Histori...   \n",
       "9075        9878                             Clubhouse Dataset 9.7M   \n",
       "9102        9909                           COVID-19 data from World   \n",
       "\n",
       "          Author_name  No_of_files    size Type_of_file  Upvotes Medals  \\\n",
       "20               DanB            1  461 kB          CSV     1209   Gold   \n",
       "33         Mitchell J           20  211 MB    CSV, JSON     4866   Gold   \n",
       "34         zackthoutt            3   53 MB    CSV, JSON     3408   Gold   \n",
       "35    Abhishek Sharma            2   72 kB          CSV     1492   Gold   \n",
       "36    Aleksey Bilogur            1   41 kB          CSV      829   Gold   \n",
       "...               ...          ...     ...          ...      ...    ...   \n",
       "8789  Abhishek Thakur        12090    2 GB   other, CSV       86   Gold   \n",
       "8805           Vopani          153    3 MB   CSV, other      189   Gold   \n",
       "8807  Saurabh Shahane          154  110 MB        other       64   Gold   \n",
       "9075            Vahid            6    3 GB        other      195   Gold   \n",
       "9102       Arslan Ali            1   12 MB          CSV      109   Gold   \n",
       "\n",
       "      Usability       Date  Day                Time  \n",
       "20          7.1 2018-06-05  Tue 2025-05-15 18:22:24  \n",
       "33          7.9 2019-06-03  Mon 2025-05-15 06:26:47  \n",
       "34          7.9 2017-11-27  Mon 2025-05-15 22:38:04  \n",
       "35          7.1 2018-01-28  Sun 2025-05-15 14:14:24  \n",
       "36          7.1 2018-01-11  Thu 2025-05-15 21:34:39  \n",
       "...         ...        ...  ...                 ...  \n",
       "8789        2.9 2019-06-26  Wed 2025-05-15 21:36:21  \n",
       "8805        9.1 2020-07-23  Thu 2025-05-15 22:53:46  \n",
       "8807        5.0 2020-12-18  Fri 2025-05-15 15:45:36  \n",
       "9075        9.4 2021-06-22  Tue 2025-05-15 10:41:06  \n",
       "9102        9.4 2022-10-02  Sun 2025-05-15 11:26:12  \n",
       "\n",
       "[583 rows x 12 columns]"
      ]
     },
     "execution_count": 390,
     "metadata": {},
     "output_type": "execute_result"
    }
   ],
   "source": [
    "goal_data_set"
   ]
  },
  {
   "cell_type": "code",
   "execution_count": 396,
   "id": "8b8b28dd-bdd0-4094-b1f4-6baa6abab1b8",
   "metadata": {},
   "outputs": [
    {
     "data": {
      "text/plain": [
       "27619"
      ]
     },
     "execution_count": 396,
     "metadata": {},
     "output_type": "execute_result"
    }
   ],
   "source": [
    "num = df[num_col]\n",
    "num['Upvotes'].max()"
   ]
  },
  {
   "cell_type": "code",
   "execution_count": 404,
   "id": "c2afb8c9-a74a-4fce-acdd-26310cc075af",
   "metadata": {},
   "outputs": [
    {
     "data": {
      "text/html": [
       "<div>\n",
       "<style scoped>\n",
       "    .dataframe tbody tr th:only-of-type {\n",
       "        vertical-align: middle;\n",
       "    }\n",
       "\n",
       "    .dataframe tbody tr th {\n",
       "        vertical-align: top;\n",
       "    }\n",
       "\n",
       "    .dataframe thead th {\n",
       "        text-align: right;\n",
       "    }\n",
       "</style>\n",
       "<table border=\"1\" class=\"dataframe\">\n",
       "  <thead>\n",
       "    <tr style=\"text-align: right;\">\n",
       "      <th></th>\n",
       "      <th>Unnamed: 0</th>\n",
       "      <th>No_of_files</th>\n",
       "      <th>Upvotes</th>\n",
       "      <th>Usability</th>\n",
       "    </tr>\n",
       "  </thead>\n",
       "  <tbody>\n",
       "    <tr>\n",
       "      <th>57</th>\n",
       "      <td>59</td>\n",
       "      <td>30</td>\n",
       "      <td>27619</td>\n",
       "      <td>8.2</td>\n",
       "    </tr>\n",
       "  </tbody>\n",
       "</table>\n",
       "</div>"
      ],
      "text/plain": [
       "    Unnamed: 0  No_of_files  Upvotes  Usability\n",
       "57          59           30    27619        8.2"
      ]
     },
     "execution_count": 404,
     "metadata": {},
     "output_type": "execute_result"
    }
   ],
   "source": [
    "num[num['Upvotes'] == num[\"Upvotes\"].max()]"
   ]
  },
  {
   "cell_type": "code",
   "execution_count": 435,
   "id": "e34d84d9-acd3-4a99-944c-d5619f2c18ee",
   "metadata": {},
   "outputs": [
    {
     "name": "stdout",
     "output_type": "stream",
     "text": [
      "The mean \n",
      " Unnamed: 0     4961.918196\n",
      "No_of_files    5758.410987\n",
      "Upvotes          73.435889\n",
      "Usability         7.437331\n",
      "dtype: float64 \n",
      "\n",
      "Median \n",
      " Unnamed: 0     4934.5\n",
      "No_of_files       2.0\n",
      "Upvotes          23.0\n",
      "Usability         8.5\n",
      "dtype: float64\n"
     ]
    }
   ],
   "source": [
    "#Find the mean and median of all the numerical variable\n",
    "print(\"The mean \\n\",num.mean(), \"\\n\") \n",
    "  \n",
    "  \n",
    "print(\"Median \\n\",num.median())"
   ]
  },
  {
   "cell_type": "code",
   "execution_count": 447,
   "id": "b65be846-e048-4574-9c65-6cfd276b67bf",
   "metadata": {},
   "outputs": [],
   "source": [
    "#Select all the data where publish in 2020\n",
    "new_df_2020 = df[df[\"Date\"]>=\"2020-01-01\"]"
   ]
  },
  {
   "cell_type": "code",
   "execution_count": 449,
   "id": "ffffc627-c569-4670-b55f-b68eaf40071f",
   "metadata": {},
   "outputs": [
    {
     "data": {
      "text/html": [
       "<div>\n",
       "<style scoped>\n",
       "    .dataframe tbody tr th:only-of-type {\n",
       "        vertical-align: middle;\n",
       "    }\n",
       "\n",
       "    .dataframe tbody tr th {\n",
       "        vertical-align: top;\n",
       "    }\n",
       "\n",
       "    .dataframe thead th {\n",
       "        text-align: right;\n",
       "    }\n",
       "</style>\n",
       "<table border=\"1\" class=\"dataframe\">\n",
       "  <thead>\n",
       "    <tr style=\"text-align: right;\">\n",
       "      <th></th>\n",
       "      <th>Unnamed: 0</th>\n",
       "      <th>Dataset_name</th>\n",
       "      <th>Author_name</th>\n",
       "      <th>No_of_files</th>\n",
       "      <th>size</th>\n",
       "      <th>Type_of_file</th>\n",
       "      <th>Upvotes</th>\n",
       "      <th>Medals</th>\n",
       "      <th>Usability</th>\n",
       "      <th>Date</th>\n",
       "      <th>Day</th>\n",
       "      <th>Time</th>\n",
       "    </tr>\n",
       "  </thead>\n",
       "  <tbody>\n",
       "    <tr>\n",
       "      <th>0</th>\n",
       "      <td>0</td>\n",
       "      <td>Hotel Reservations Dataset</td>\n",
       "      <td>Ahsan Raza</td>\n",
       "      <td>1</td>\n",
       "      <td>491 kB</td>\n",
       "      <td>CSV</td>\n",
       "      <td>315</td>\n",
       "      <td>Silver</td>\n",
       "      <td>10.0</td>\n",
       "      <td>2023-01-04</td>\n",
       "      <td>Wed</td>\n",
       "      <td>2025-05-15 18:20:31</td>\n",
       "    </tr>\n",
       "    <tr>\n",
       "      <th>1</th>\n",
       "      <td>2</td>\n",
       "      <td>Most Subscribed 1000 Youtube Channels</td>\n",
       "      <td>Mrityunjay Pathak</td>\n",
       "      <td>1</td>\n",
       "      <td>29 kB</td>\n",
       "      <td>CSV</td>\n",
       "      <td>76</td>\n",
       "      <td>Bronze</td>\n",
       "      <td>10.0</td>\n",
       "      <td>2023-01-21</td>\n",
       "      <td>Sat</td>\n",
       "      <td>2025-05-15 20:12:05</td>\n",
       "    </tr>\n",
       "    <tr>\n",
       "      <th>2</th>\n",
       "      <td>3</td>\n",
       "      <td>Olympics 124 years Dataset(till 2020)</td>\n",
       "      <td>Nitish Sharma01</td>\n",
       "      <td>3</td>\n",
       "      <td>5 MB</td>\n",
       "      <td>CSV</td>\n",
       "      <td>30</td>\n",
       "      <td>Bronze</td>\n",
       "      <td>10.0</td>\n",
       "      <td>2023-02-01</td>\n",
       "      <td>Wed</td>\n",
       "      <td>2025-05-15 14:30:49</td>\n",
       "    </tr>\n",
       "    <tr>\n",
       "      <th>3</th>\n",
       "      <td>4</td>\n",
       "      <td>Medical Student Mental Health</td>\n",
       "      <td>The Devastator</td>\n",
       "      <td>2</td>\n",
       "      <td>19 kB</td>\n",
       "      <td>CSV</td>\n",
       "      <td>37</td>\n",
       "      <td>Bronze</td>\n",
       "      <td>10.0</td>\n",
       "      <td>2023-01-25</td>\n",
       "      <td>Wed</td>\n",
       "      <td>2025-05-15 06:30:14</td>\n",
       "    </tr>\n",
       "    <tr>\n",
       "      <th>4</th>\n",
       "      <td>5</td>\n",
       "      <td>Latest Netflix TV shows and movies</td>\n",
       "      <td>Senapati Rajesh</td>\n",
       "      <td>1</td>\n",
       "      <td>1 MB</td>\n",
       "      <td>CSV</td>\n",
       "      <td>94</td>\n",
       "      <td>Bronze</td>\n",
       "      <td>9.4</td>\n",
       "      <td>2023-01-14</td>\n",
       "      <td>Sat</td>\n",
       "      <td>2025-05-15 22:33:12</td>\n",
       "    </tr>\n",
       "    <tr>\n",
       "      <th>...</th>\n",
       "      <td>...</td>\n",
       "      <td>...</td>\n",
       "      <td>...</td>\n",
       "      <td>...</td>\n",
       "      <td>...</td>\n",
       "      <td>...</td>\n",
       "      <td>...</td>\n",
       "      <td>...</td>\n",
       "      <td>...</td>\n",
       "      <td>...</td>\n",
       "      <td>...</td>\n",
       "      <td>...</td>\n",
       "    </tr>\n",
       "    <tr>\n",
       "      <th>9153</th>\n",
       "      <td>9966</td>\n",
       "      <td>bankdata</td>\n",
       "      <td>Jochein</td>\n",
       "      <td>7</td>\n",
       "      <td>1 MB</td>\n",
       "      <td>CSV, other</td>\n",
       "      <td>1</td>\n",
       "      <td>No Medal</td>\n",
       "      <td>1.8</td>\n",
       "      <td>2022-12-31</td>\n",
       "      <td>Sat</td>\n",
       "      <td>2025-05-15 14:38:17</td>\n",
       "    </tr>\n",
       "    <tr>\n",
       "      <th>9154</th>\n",
       "      <td>9967</td>\n",
       "      <td>Simpsons Episodes &amp; Ratings (1989-)</td>\n",
       "      <td>Jonathan Bown</td>\n",
       "      <td>2</td>\n",
       "      <td>163 kB</td>\n",
       "      <td>CSV</td>\n",
       "      <td>42</td>\n",
       "      <td>Silver</td>\n",
       "      <td>10.0</td>\n",
       "      <td>2022-12-27</td>\n",
       "      <td>Tue</td>\n",
       "      <td>2025-05-15 23:38:50</td>\n",
       "    </tr>\n",
       "    <tr>\n",
       "      <th>9155</th>\n",
       "      <td>9968</td>\n",
       "      <td>Video Game Dataset</td>\n",
       "      <td>Trung Hoang</td>\n",
       "      <td>1</td>\n",
       "      <td>22 MB</td>\n",
       "      <td>CSV</td>\n",
       "      <td>38</td>\n",
       "      <td>No Medal</td>\n",
       "      <td>8.2</td>\n",
       "      <td>2020-12-23</td>\n",
       "      <td>Wed</td>\n",
       "      <td>2025-05-15 10:24:53</td>\n",
       "    </tr>\n",
       "    <tr>\n",
       "      <th>9156</th>\n",
       "      <td>9969</td>\n",
       "      <td>deberta-v3-small</td>\n",
       "      <td>miwojc</td>\n",
       "      <td>6</td>\n",
       "      <td>600 MB</td>\n",
       "      <td>other, JSON</td>\n",
       "      <td>3</td>\n",
       "      <td>No Medal</td>\n",
       "      <td>1.9</td>\n",
       "      <td>2022-04-21</td>\n",
       "      <td>Thu</td>\n",
       "      <td>2025-05-15 11:43:36</td>\n",
       "    </tr>\n",
       "    <tr>\n",
       "      <th>9157</th>\n",
       "      <td>9970</td>\n",
       "      <td>Israeli Premier League - Team stats 2016-20</td>\n",
       "      <td>Ido Yoely</td>\n",
       "      <td>1</td>\n",
       "      <td>145 kB</td>\n",
       "      <td>CSV</td>\n",
       "      <td>4</td>\n",
       "      <td>No Medal</td>\n",
       "      <td>9.7</td>\n",
       "      <td>2020-04-05</td>\n",
       "      <td>Sun</td>\n",
       "      <td>2025-05-15 14:23:01</td>\n",
       "    </tr>\n",
       "  </tbody>\n",
       "</table>\n",
       "<p>7438 rows × 12 columns</p>\n",
       "</div>"
      ],
      "text/plain": [
       "      Unnamed: 0                                 Dataset_name  \\\n",
       "0              0                   Hotel Reservations Dataset   \n",
       "1              2        Most Subscribed 1000 Youtube Channels   \n",
       "2              3        Olympics 124 years Dataset(till 2020)   \n",
       "3              4                Medical Student Mental Health   \n",
       "4              5           Latest Netflix TV shows and movies   \n",
       "...          ...                                          ...   \n",
       "9153        9966                                     bankdata   \n",
       "9154        9967          Simpsons Episodes & Ratings (1989-)   \n",
       "9155        9968                           Video Game Dataset   \n",
       "9156        9969                             deberta-v3-small   \n",
       "9157        9970  Israeli Premier League - Team stats 2016-20   \n",
       "\n",
       "            Author_name  No_of_files    size Type_of_file  Upvotes    Medals  \\\n",
       "0            Ahsan Raza            1  491 kB          CSV      315    Silver   \n",
       "1     Mrityunjay Pathak            1   29 kB          CSV       76    Bronze   \n",
       "2       Nitish Sharma01            3    5 MB          CSV       30    Bronze   \n",
       "3        The Devastator            2   19 kB          CSV       37    Bronze   \n",
       "4       Senapati Rajesh            1    1 MB          CSV       94    Bronze   \n",
       "...                 ...          ...     ...          ...      ...       ...   \n",
       "9153            Jochein            7    1 MB   CSV, other        1  No Medal   \n",
       "9154      Jonathan Bown            2  163 kB          CSV       42    Silver   \n",
       "9155        Trung Hoang            1   22 MB          CSV       38  No Medal   \n",
       "9156             miwojc            6  600 MB  other, JSON        3  No Medal   \n",
       "9157          Ido Yoely            1  145 kB          CSV        4  No Medal   \n",
       "\n",
       "      Usability       Date  Day                Time  \n",
       "0          10.0 2023-01-04  Wed 2025-05-15 18:20:31  \n",
       "1          10.0 2023-01-21  Sat 2025-05-15 20:12:05  \n",
       "2          10.0 2023-02-01  Wed 2025-05-15 14:30:49  \n",
       "3          10.0 2023-01-25  Wed 2025-05-15 06:30:14  \n",
       "4           9.4 2023-01-14  Sat 2025-05-15 22:33:12  \n",
       "...         ...        ...  ...                 ...  \n",
       "9153        1.8 2022-12-31  Sat 2025-05-15 14:38:17  \n",
       "9154       10.0 2022-12-27  Tue 2025-05-15 23:38:50  \n",
       "9155        8.2 2020-12-23  Wed 2025-05-15 10:24:53  \n",
       "9156        1.9 2022-04-21  Thu 2025-05-15 11:43:36  \n",
       "9157        9.7 2020-04-05  Sun 2025-05-15 14:23:01  \n",
       "\n",
       "[7438 rows x 12 columns]"
      ]
     },
     "execution_count": 449,
     "metadata": {},
     "output_type": "execute_result"
    }
   ],
   "source": [
    "new_df_2020"
   ]
  },
  {
   "cell_type": "code",
   "execution_count": null,
   "id": "ae84855b-b40b-4a15-bd50-ae69f2b93bff",
   "metadata": {},
   "outputs": [],
   "source": []
  },
  {
   "cell_type": "markdown",
   "id": "d74fe88f-d70d-46e1-8137-0d1b5db091f7",
   "metadata": {},
   "source": [
    "<h2>Visualization</h2>"
   ]
  },
  {
   "cell_type": "code",
   "execution_count": null,
   "id": "8d4bf12f-dfd1-4609-acca-5b5ee8e7c7c5",
   "metadata": {},
   "outputs": [],
   "source": []
  },
  {
   "cell_type": "code",
   "execution_count": 457,
   "id": "cae3b0b8-c28a-4b46-a371-a26beca8c335",
   "metadata": {},
   "outputs": [
    {
     "data": {
      "text/plain": [
       "<Axes: xlabel='Upvotes', ylabel='Day'>"
      ]
     },
     "execution_count": 457,
     "metadata": {},
     "output_type": "execute_result"
    },
    {
     "data": {
      "image/png": "[encoded data removed]",
      "text/plain": [
       "<Figure size 640x480 with 1 Axes>"
      ]
     },
     "metadata": {},
     "output_type": "display_data"
    }
   ],
   "source": [
    "sns.barplot(x = df[\"Upvotes\"], y = df[\"Day\"])"
   ]
  },
  {
   "cell_type": "code",
   "execution_count": 500,
   "id": "6a085316-15e7-4563-a319-216502fea5e7",
   "metadata": {},
   "outputs": [
    {
     "data": {
      "image/png": "[encoded data removed]",
      "text/plain": [
       "<Figure size 800x300 with 1 Axes>"
      ]
     },
     "metadata": {},
     "output_type": "display_data"
    }
   ],
   "source": [
    "import wordcloud\n",
    "from wordcloud import WordCloud\n",
    "from wordcloud import STOPWORDS\n",
    "stopwords = set(STOPWORDS)\n",
    "wordcloud = WordCloud(background_color = 'yellow',\n",
    "                      height =2000,\n",
    "                      width = 2000\n",
    "                     ).generate(str(df[\"Author_name\"]))\n",
    "plt.figure(figsize = (8,3))\n",
    "plt.rcParams['figure.figsize'] = (12,12)\n",
    "plt.axis(\"off\")\n",
    "plt.imshow(wordcloud)\n",
    "plt.title(\"Datasets Authors\")\n",
    "plt.show()"
   ]
  },
  {
   "cell_type": "code",
   "execution_count": 470,
   "id": "9b1cb705-cbbc-4d20-bebf-9ad9a64bb32f",
   "metadata": {},
   "outputs": [
    {
     "name": "stdout",
     "output_type": "stream",
     "text": [
      "Collecting wordcloud\n",
      "  Downloading wordcloud-1.9.4-cp312-cp312-win_amd64.whl.metadata (3.5 kB)\n",
      "Requirement already satisfied: numpy>=1.6.1 in c:\\users\\usuario\\anaconda3\\lib\\site-packages (from wordcloud) (1.26.4)\n",
      "Requirement already satisfied: pillow in c:\\users\\usuario\\anaconda3\\lib\\site-packages (from wordcloud) (10.4.0)\n",
      "Requirement already satisfied: matplotlib in c:\\users\\usuario\\anaconda3\\lib\\site-packages (from wordcloud) (3.9.2)\n",
      "Requirement already satisfied: contourpy>=1.0.1 in c:\\users\\usuario\\anaconda3\\lib\\site-packages (from matplotlib->wordcloud) (1.2.0)\n",
      "Requirement already satisfied: cycler>=0.10 in c:\\users\\usuario\\anaconda3\\lib\\site-packages (from matplotlib->wordcloud) (0.11.0)\n",
      "Requirement already satisfied: fonttools>=4.22.0 in c:\\users\\usuario\\anaconda3\\lib\\site-packages (from matplotlib->wordcloud) (4.51.0)\n",
      "Requirement already satisfied: kiwisolver>=1.3.1 in c:\\users\\usuario\\anaconda3\\lib\\site-packages (from matplotlib->wordcloud) (1.4.4)\n",
      "Requirement already satisfied: packaging>=20.0 in c:\\users\\usuario\\anaconda3\\lib\\site-packages (from matplotlib->wordcloud) (24.1)\n",
      "Requirement already satisfied: pyparsing>=2.3.1 in c:\\users\\usuario\\anaconda3\\lib\\site-packages (from matplotlib->wordcloud) (3.1.2)\n",
      "Requirement already satisfied: python-dateutil>=2.7 in c:\\users\\usuario\\anaconda3\\lib\\site-packages (from matplotlib->wordcloud) (2.9.0.post0)\n",
      "Requirement already satisfied: six>=1.5 in c:\\users\\usuario\\anaconda3\\lib\\site-packages (from python-dateutil>=2.7->matplotlib->wordcloud) (1.16.0)\n",
      "Downloading wordcloud-1.9.4-cp312-cp312-win_amd64.whl (301 kB)\n",
      "Installing collected packages: wordcloud\n",
      "Successfully installed wordcloud-1.9.4\n",
      "Note: you may need to restart the kernel to use updated packages.\n"
     ]
    }
   ],
   "source": [
    "pip install wordcloud"
   ]
  },
  {
   "cell_type": "code",
   "execution_count": 496,
   "id": "5c440c2b-9554-4df6-87cf-025d705c21c9",
   "metadata": {},
   "outputs": [
    {
     "data": {
      "text/plain": [
       "Text(0.5, 1.0, 'Year which had maximum dataset uploads')"
      ]
     },
     "execution_count": 496,
     "metadata": {},
     "output_type": "execute_result"
    },
    {
     "data": {
      "image/png": "[encoded data removed]",
      "text/plain": [
       "<Figure size 600x300 with 1 Axes>"
      ]
     },
     "metadata": {},
     "output_type": "display_data"
    }
   ],
   "source": [
    "plt.figure(figsize = (6,3))\n",
    "df['Date'].dt.year.value_counts(normalize=True).plot(kind='bar')\n",
    "plt.title('Year which had maximum dataset uploads')\n"
   ]
  },
  {
   "cell_type": "code",
   "execution_count": null,
   "id": "12f6b75f-e95d-4842-962f-b0e1380d8a74",
   "metadata": {},
   "outputs": [],
   "source": []
  },
  {
   "cell_type": "markdown",
   "id": "67413e58-308f-4892-8eda-47a0e59200cf",
   "metadata": {},
   "source": [
    "<h2>\n",
    "    Author : \n",
    "     <h6>WEDSON PETIT HOMME </h6>\n",
    "    <br>\n",
    "    <h4> Contact :</h4>\n",
    "    <li>Email : wedsonpetithomme0@gmail.com</li>\n",
    "    <li> <a href = \"https://www.linkedin.com/\"> Linkedin :</a><a href = \"https://www.linkedin.com/in/wedson-petithomme-947571239/\">wedson-petit-homme-947571239 </a></li>\n",
    "    <li><a href = \"https://github.com/ALYProdz\">GitHub :</a><a href = \"https://github.com/ALYProdz\">Wedson (ALYProdz) </a> </li>\n",
    "    <li><a href = \"https://x.com/\"> X(Twitter) :</a> @WedsonPh97</li>\n",
    "    <li><a href = https://www.datacamp.com/portfolio/wedsonpetithomme> Datacamp :</a><a href = \"https://www.datacamp.com/portfolio/wedsonpetithomme\"> WEDSON PETIT HOMME</a></li>\n",
    "</h2>\n"
   ]
  },
  {
   "cell_type": "code",
   "execution_count": null,
   "id": "691c1c7c-9ecc-43f9-876c-ce202dca70cb",
   "metadata": {},
   "outputs": [],
   "source": []
  }
 ],
 "metadata": {
  "kernelspec": {
   "display_name": "Python [conda env:base] *",
   "language": "python",
   "name": "conda-base-py"
  },
  "language_info": {
   "codemirror_mode": {
    "name": "ipython",
    "version": 3
   },
   "file_extension": ".py",
   "mimetype": "text/x-python",
   "name": "python",
   "nbconvert_exporter": "python",
   "pygments_lexer": "ipython3",
   "version": "3.12.7"
  }
 },
 "nbformat": 4,
 "nbformat_minor": 5
}
