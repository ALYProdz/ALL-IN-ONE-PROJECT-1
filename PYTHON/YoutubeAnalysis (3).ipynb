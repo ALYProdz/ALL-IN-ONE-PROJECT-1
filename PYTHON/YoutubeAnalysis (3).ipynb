{
 "cells": [
  {
   "cell_type": "code",
   "execution_count": null,
   "id": "918378a8-a13a-4816-b90d-4d21f7fda9a6",
   "metadata": {},
   "outputs": [],
   "source": []
  },
  {
   "cell_type": "markdown",
   "id": "e8ec64de-0294-4727-b4ec-b4ce5ad094c2",
   "metadata": {},
   "source": [
    "<h1>YOUTUBE ANALYSIS</h1>\n",
    "<p>In this analysis, we are going to analyse a youtube data from kaggle datasets. Our outcome are : \n",
    "<ol>\n",
    "    <li>Find the information about 5 first category in the year  1990</li>\n",
    "    <li>Find the information about the 5 first category in the year from 2000 to 2024</li>\n",
    "    <li>Existing relation between : Likes & Dislike; Likes & Viewa ; Views & Dislikes</li>\n",
    "    <li>Make a visualisation to explain all of it</li>\n",
    "    <li>Make Prediction</li>\n",
    "</ol>\n",
    "</p>\n",
    "<p class = \"Intro\"> <h2>Step of the Analysis</h2></p>\n",
    "<ol>\n",
    "    <li>Import the important and necessary module and library for this Case Study</li>\n",
    "    <li>Import the data into data fram</li>\n",
    "    <li>Analyse the data\n",
    "    <ul>\n",
    "        <li>Check the shape of the Data</li>\n",
    "        <li>All the columns of the Data</li>\n",
    "        <li>Describe and Summarize the Data</li>\n",
    "        <li>All info about the Data</li>\n",
    "        <li>Data types of each columns</li>\n",
    "        <li>Select all numerical column and categorical columns</li>\n",
    "    </ul>\n",
    "    </li>\n",
    "    <li>  <h3>Data Cleaning and Processing</h3>\n",
    "        <p>In this section, we perform the following steps:\n",
    "        <ul>\n",
    "        <li>Check for missing value in the Data</li>\n",
    "        <li>Drop all missing value </li>\n",
    "        <li>Convert the columns to the corect Data types</li>\n",
    "        <li>Count the value in each column</li>\n",
    "        <li>Group the Data into category if necessary\n",
    "        <ol>\n",
    "            <li>Music</li>\n",
    "            <li>Video</li>\n",
    "        </ol>\n",
    "        </li>\n",
    "        <li>Number of unique Data in columns</li>\n",
    "            <li>Sort the Data if needed</li>\n",
    "        <li>Convert string columns which represent numeric values (such as 'Video views', 'Likes', and 'Dislikes') into numeric types. These columns sometimes include formatting characters like commas, which we remove.</li>\n",
    "        <li>Validate that the 'published' column, although given as an integer, represents a year. If required, it can be converted into a datetime object.</li>\n",
    "        </ul> <br>\n",
    "        It's important to note that many notebook creators may encounter issues when numeric values are stored as strings with commas. Our approach using the str.replace method followed by pd.to_numeric is robust in handling such errors.\n",
    "        </p>\n",
    "    </li>\n",
    "    <li><h3>Exploratory Data</h3>\n",
    "    <ul>\n",
    "        <h4>Visualize the Data</h4>\n",
    "    <li>Distribution per Views</li>\n",
    "        <li>Distribution per Likes</li>\n",
    "        <li>Distribution per Dislikes</li>\n",
    "    </ul>\n",
    "    </li>\n",
    "    <li>\n",
    "        <h3>ML</h3>\n",
    "        <ol>\n",
    "            <li>Select Model</li>\n",
    "            <li>Train, Test, and Predict from the model</li>\n",
    "            <li>Find the Z score</li>\n",
    "            <li>Mean Square Root</li>\n",
    "            <li>Find the correlation between </li>\n",
    "        </ol>\n",
    "    </li>\n",
    "    \n",
    "    \n",
    "</ol>\n"
   ]
  },
  {
   "cell_type": "markdown",
   "id": "d9b01636-033c-4c91-b7ca-0d5b3ba9f8f4",
   "metadata": {},
   "source": [
    "<h4>Import the important and necessary module and library for this Case Study</h4>"
   ]
  },
  {
   "cell_type": "code",
   "execution_count": 7,
   "id": "67e6b15b-3326-4711-b89a-57e7153a0183",
   "metadata": {},
   "outputs": [],
   "source": [
    "import pandas as pd\n",
    "import numpy as np\n",
    "import matplotlib.pyplot as plt\n",
    "import sklearn as sk\n",
    "from sklearn.linear_model import LinearRegression, LogisticRegression\n",
    "import seaborn as sns\n",
    "import scipy.stats as ss\n",
    "from sklearn.model_selection import train_test_split\n",
    "from sklearn.ensemble import RandomForestRegressor\n",
    "from sklearn.metrics import mean_squared_error, r2_score"
   ]
  },
  {
   "cell_type": "markdown",
   "id": "194d104e-ba97-4d53-afd7-03cc7cf8b24e",
   "metadata": {},
   "source": [
    "<h4>Data Loading</h4>"
   ]
  },
  {
   "cell_type": "code",
   "execution_count": 7,
   "id": "c30be890-3014-48c7-9ae5-f4022106daea",
   "metadata": {},
   "outputs": [],
   "source": [
    "#Load the Data\n",
    "df = pd.read_csv(\"./Desktop/MyProjects/top-1000-trending-youtube-videos.csv\")"
   ]
  },
  {
   "cell_type": "markdown",
   "id": "bc68da88-71c1-4432-9907-ba6df6444507",
   "metadata": {},
   "source": [
    "<h4>Start Analyzing the Data</h4>"
   ]
  },
  {
   "cell_type": "code",
   "execution_count": 9,
   "id": "ffbb19aa-42ca-45fb-9262-2d27635702ad",
   "metadata": {},
   "outputs": [
    {
     "data": {
      "text/html": [
       "<div>\n",
       "<style scoped>\n",
       "    .dataframe tbody tr th:only-of-type {\n",
       "        vertical-align: middle;\n",
       "    }\n",
       "\n",
       "    .dataframe tbody tr th {\n",
       "        vertical-align: top;\n",
       "    }\n",
       "\n",
       "    .dataframe thead th {\n",
       "        text-align: right;\n",
       "    }\n",
       "</style>\n",
       "<table border=\"1\" class=\"dataframe\">\n",
       "  <thead>\n",
       "    <tr style=\"text-align: right;\">\n",
       "      <th></th>\n",
       "      <th>rank</th>\n",
       "      <th>Video</th>\n",
       "      <th>Video views</th>\n",
       "      <th>Likes</th>\n",
       "      <th>Dislikes</th>\n",
       "      <th>Category</th>\n",
       "      <th>published</th>\n",
       "    </tr>\n",
       "  </thead>\n",
       "  <tbody>\n",
       "    <tr>\n",
       "      <th>0</th>\n",
       "      <td>1</td>\n",
       "      <td>20 Tennis shots if they were not filmed, NOBOD...</td>\n",
       "      <td>3,471,237</td>\n",
       "      <td>19,023</td>\n",
       "      <td>859</td>\n",
       "      <td>NaN</td>\n",
       "      <td>2017</td>\n",
       "    </tr>\n",
       "    <tr>\n",
       "      <th>1</th>\n",
       "      <td>2</td>\n",
       "      <td>Lil Nas X - Old Town Road (Official Movie) ft....</td>\n",
       "      <td>54,071,677</td>\n",
       "      <td>3,497,955</td>\n",
       "      <td>78,799</td>\n",
       "      <td>Music</td>\n",
       "      <td>2019</td>\n",
       "    </tr>\n",
       "    <tr>\n",
       "      <th>2</th>\n",
       "      <td>3</td>\n",
       "      <td>JoJo Siwa - Karma (Official Video)</td>\n",
       "      <td>34,206,747</td>\n",
       "      <td>293,563</td>\n",
       "      <td>NaN</td>\n",
       "      <td>Music</td>\n",
       "      <td>2024</td>\n",
       "    </tr>\n",
       "    <tr>\n",
       "      <th>3</th>\n",
       "      <td>4</td>\n",
       "      <td>Wiz Khalifa - See You Again ft. Charlie Puth [...</td>\n",
       "      <td>6,643,904,918</td>\n",
       "      <td>44,861,602</td>\n",
       "      <td>NaN</td>\n",
       "      <td>Music</td>\n",
       "      <td>2015</td>\n",
       "    </tr>\n",
       "    <tr>\n",
       "      <th>4</th>\n",
       "      <td>5</td>\n",
       "      <td>伊賀の天然水強炭酸水「家族で、シュワシェア。」篇　15秒</td>\n",
       "      <td>236,085,971</td>\n",
       "      <td>38</td>\n",
       "      <td>NaN</td>\n",
       "      <td>NaN</td>\n",
       "      <td>2021</td>\n",
       "    </tr>\n",
       "    <tr>\n",
       "      <th>5</th>\n",
       "      <td>6</td>\n",
       "      <td>JP Saxe - If the World Was Ending (Official Vi...</td>\n",
       "      <td>76,834,495</td>\n",
       "      <td>804,353</td>\n",
       "      <td>21,195</td>\n",
       "      <td>Music</td>\n",
       "      <td>2019</td>\n",
       "    </tr>\n",
       "    <tr>\n",
       "      <th>6</th>\n",
       "      <td>7</td>\n",
       "      <td>David Kushner - Daylight (Official Music Video)</td>\n",
       "      <td>18,558,390</td>\n",
       "      <td>680,732</td>\n",
       "      <td>NaN</td>\n",
       "      <td>Music</td>\n",
       "      <td>2023</td>\n",
       "    </tr>\n",
       "    <tr>\n",
       "      <th>7</th>\n",
       "      <td>8</td>\n",
       "      <td>Power Star Pawan Kalyan Special Surprise To Se...</td>\n",
       "      <td>96,686</td>\n",
       "      <td>1,007</td>\n",
       "      <td>82</td>\n",
       "      <td>Entertainment</td>\n",
       "      <td>2018</td>\n",
       "    </tr>\n",
       "    <tr>\n",
       "      <th>8</th>\n",
       "      <td>9</td>\n",
       "      <td>Kulit Kamu Kulit Kering dan Sensitif? Pakai Av...</td>\n",
       "      <td>9,605,969</td>\n",
       "      <td>6</td>\n",
       "      <td>NaN</td>\n",
       "      <td>NaN</td>\n",
       "      <td>2023</td>\n",
       "    </tr>\n",
       "    <tr>\n",
       "      <th>9</th>\n",
       "      <td>10</td>\n",
       "      <td>Totti with a funny penalty</td>\n",
       "      <td>8,353,318</td>\n",
       "      <td>5,613</td>\n",
       "      <td>1,082</td>\n",
       "      <td>Sports</td>\n",
       "      <td>2007</td>\n",
       "    </tr>\n",
       "  </tbody>\n",
       "</table>\n",
       "</div>"
      ],
      "text/plain": [
       "   rank                                              Video    Video views  \\\n",
       "0     1  20 Tennis shots if they were not filmed, NOBOD...      3,471,237   \n",
       "1     2  Lil Nas X - Old Town Road (Official Movie) ft....     54,071,677   \n",
       "2     3                 JoJo Siwa - Karma (Official Video)     34,206,747   \n",
       "3     4  Wiz Khalifa - See You Again ft. Charlie Puth [...  6,643,904,918   \n",
       "4     5                       伊賀の天然水強炭酸水「家族で、シュワシェア。」篇　15秒    236,085,971   \n",
       "5     6  JP Saxe - If the World Was Ending (Official Vi...     76,834,495   \n",
       "6     7    David Kushner - Daylight (Official Music Video)     18,558,390   \n",
       "7     8  Power Star Pawan Kalyan Special Surprise To Se...         96,686   \n",
       "8     9  Kulit Kamu Kulit Kering dan Sensitif? Pakai Av...      9,605,969   \n",
       "9    10                         Totti with a funny penalty      8,353,318   \n",
       "\n",
       "        Likes Dislikes       Category  published  \n",
       "0      19,023      859            NaN       2017  \n",
       "1   3,497,955   78,799          Music       2019  \n",
       "2     293,563      NaN          Music       2024  \n",
       "3  44,861,602      NaN          Music       2015  \n",
       "4          38      NaN            NaN       2021  \n",
       "5     804,353   21,195          Music       2019  \n",
       "6     680,732      NaN          Music       2023  \n",
       "7       1,007       82  Entertainment       2018  \n",
       "8           6      NaN            NaN       2023  \n",
       "9       5,613    1,082         Sports       2007  "
      ]
     },
     "execution_count": 9,
     "metadata": {},
     "output_type": "execute_result"
    }
   ],
   "source": [
    "#Check the 10 first rows of the data\n",
    "df.head(10)"
   ]
  },
  {
   "cell_type": "code",
   "execution_count": 10,
   "id": "76b6abd2-0f22-4926-8024-be35f4c9f8a5",
   "metadata": {},
   "outputs": [
    {
     "name": "stdout",
     "output_type": "stream",
     "text": [
      "This data has 1000 rows and 7 columns .\n"
     ]
    }
   ],
   "source": [
    "#Shape of the Data\n",
    "df.shape\n",
    "print(f\"This data has {df.shape[0]} rows and {df.shape[1]} columns .\")"
   ]
  },
  {
   "cell_type": "code",
   "execution_count": 11,
   "id": "18a75ab3-a9fa-4379-9cae-ed88e8d41f9d",
   "metadata": {},
   "outputs": [
    {
     "data": {
      "text/plain": [
       "Index(['rank', 'Video', 'Video views', 'Likes', 'Dislikes', 'Category',\n",
       "       'published'],\n",
       "      dtype='object')"
      ]
     },
     "execution_count": 11,
     "metadata": {},
     "output_type": "execute_result"
    }
   ],
   "source": [
    "df.columns"
   ]
  },
  {
   "cell_type": "code",
   "execution_count": 12,
   "id": "788b188c-3d95-4cf2-af3c-12034a2b4824",
   "metadata": {},
   "outputs": [
    {
     "data": {
      "text/html": [
       "<div>\n",
       "<style scoped>\n",
       "    .dataframe tbody tr th:only-of-type {\n",
       "        vertical-align: middle;\n",
       "    }\n",
       "\n",
       "    .dataframe tbody tr th {\n",
       "        vertical-align: top;\n",
       "    }\n",
       "\n",
       "    .dataframe thead th {\n",
       "        text-align: right;\n",
       "    }\n",
       "</style>\n",
       "<table border=\"1\" class=\"dataframe\">\n",
       "  <thead>\n",
       "    <tr style=\"text-align: right;\">\n",
       "      <th></th>\n",
       "      <th>rank</th>\n",
       "      <th>Video</th>\n",
       "      <th>Video views</th>\n",
       "      <th>Likes</th>\n",
       "      <th>Dislikes</th>\n",
       "      <th>Category</th>\n",
       "      <th>published</th>\n",
       "    </tr>\n",
       "  </thead>\n",
       "  <tbody>\n",
       "    <tr>\n",
       "      <th>count</th>\n",
       "      <td>1000.000000</td>\n",
       "      <td>1000</td>\n",
       "      <td>1000</td>\n",
       "      <td>973</td>\n",
       "      <td>687</td>\n",
       "      <td>820</td>\n",
       "      <td>1000.000000</td>\n",
       "    </tr>\n",
       "    <tr>\n",
       "      <th>unique</th>\n",
       "      <td>NaN</td>\n",
       "      <td>994</td>\n",
       "      <td>1000</td>\n",
       "      <td>843</td>\n",
       "      <td>489</td>\n",
       "      <td>15</td>\n",
       "      <td>NaN</td>\n",
       "    </tr>\n",
       "    <tr>\n",
       "      <th>top</th>\n",
       "      <td>NaN</td>\n",
       "      <td>Aydem Enerji - Hayat için enerji</td>\n",
       "      <td>3,471,237</td>\n",
       "      <td>2</td>\n",
       "      <td>0</td>\n",
       "      <td>Music</td>\n",
       "      <td>NaN</td>\n",
       "    </tr>\n",
       "    <tr>\n",
       "      <th>freq</th>\n",
       "      <td>NaN</td>\n",
       "      <td>2</td>\n",
       "      <td>1</td>\n",
       "      <td>15</td>\n",
       "      <td>33</td>\n",
       "      <td>284</td>\n",
       "      <td>NaN</td>\n",
       "    </tr>\n",
       "    <tr>\n",
       "      <th>mean</th>\n",
       "      <td>500.500000</td>\n",
       "      <td>NaN</td>\n",
       "      <td>NaN</td>\n",
       "      <td>NaN</td>\n",
       "      <td>NaN</td>\n",
       "      <td>NaN</td>\n",
       "      <td>2015.933000</td>\n",
       "    </tr>\n",
       "    <tr>\n",
       "      <th>std</th>\n",
       "      <td>288.819436</td>\n",
       "      <td>NaN</td>\n",
       "      <td>NaN</td>\n",
       "      <td>NaN</td>\n",
       "      <td>NaN</td>\n",
       "      <td>NaN</td>\n",
       "      <td>6.054847</td>\n",
       "    </tr>\n",
       "    <tr>\n",
       "      <th>min</th>\n",
       "      <td>1.000000</td>\n",
       "      <td>NaN</td>\n",
       "      <td>NaN</td>\n",
       "      <td>NaN</td>\n",
       "      <td>NaN</td>\n",
       "      <td>NaN</td>\n",
       "      <td>2005.000000</td>\n",
       "    </tr>\n",
       "    <tr>\n",
       "      <th>25%</th>\n",
       "      <td>250.750000</td>\n",
       "      <td>NaN</td>\n",
       "      <td>NaN</td>\n",
       "      <td>NaN</td>\n",
       "      <td>NaN</td>\n",
       "      <td>NaN</td>\n",
       "      <td>2010.000000</td>\n",
       "    </tr>\n",
       "    <tr>\n",
       "      <th>50%</th>\n",
       "      <td>500.500000</td>\n",
       "      <td>NaN</td>\n",
       "      <td>NaN</td>\n",
       "      <td>NaN</td>\n",
       "      <td>NaN</td>\n",
       "      <td>NaN</td>\n",
       "      <td>2017.000000</td>\n",
       "    </tr>\n",
       "    <tr>\n",
       "      <th>75%</th>\n",
       "      <td>750.250000</td>\n",
       "      <td>NaN</td>\n",
       "      <td>NaN</td>\n",
       "      <td>NaN</td>\n",
       "      <td>NaN</td>\n",
       "      <td>NaN</td>\n",
       "      <td>2021.000000</td>\n",
       "    </tr>\n",
       "    <tr>\n",
       "      <th>max</th>\n",
       "      <td>1000.000000</td>\n",
       "      <td>NaN</td>\n",
       "      <td>NaN</td>\n",
       "      <td>NaN</td>\n",
       "      <td>NaN</td>\n",
       "      <td>NaN</td>\n",
       "      <td>2025.000000</td>\n",
       "    </tr>\n",
       "  </tbody>\n",
       "</table>\n",
       "</div>"
      ],
      "text/plain": [
       "               rank                             Video Video views Likes  \\\n",
       "count   1000.000000                              1000        1000   973   \n",
       "unique          NaN                               994        1000   843   \n",
       "top             NaN  Aydem Enerji - Hayat için enerji   3,471,237     2   \n",
       "freq            NaN                                 2           1    15   \n",
       "mean     500.500000                               NaN         NaN   NaN   \n",
       "std      288.819436                               NaN         NaN   NaN   \n",
       "min        1.000000                               NaN         NaN   NaN   \n",
       "25%      250.750000                               NaN         NaN   NaN   \n",
       "50%      500.500000                               NaN         NaN   NaN   \n",
       "75%      750.250000                               NaN         NaN   NaN   \n",
       "max     1000.000000                               NaN         NaN   NaN   \n",
       "\n",
       "       Dislikes Category    published  \n",
       "count       687      820  1000.000000  \n",
       "unique      489       15          NaN  \n",
       "top           0    Music          NaN  \n",
       "freq         33      284          NaN  \n",
       "mean        NaN      NaN  2015.933000  \n",
       "std         NaN      NaN     6.054847  \n",
       "min         NaN      NaN  2005.000000  \n",
       "25%         NaN      NaN  2010.000000  \n",
       "50%         NaN      NaN  2017.000000  \n",
       "75%         NaN      NaN  2021.000000  \n",
       "max         NaN      NaN  2025.000000  "
      ]
     },
     "execution_count": 12,
     "metadata": {},
     "output_type": "execute_result"
    }
   ],
   "source": [
    "df.describe(include = \"all\")"
   ]
  },
  {
   "cell_type": "code",
   "execution_count": 13,
   "id": "5e1fbe1f-72b8-4e92-a08e-274293adda5d",
   "metadata": {},
   "outputs": [
    {
     "name": "stdout",
     "output_type": "stream",
     "text": [
      "<class 'pandas.core.frame.DataFrame'>\n",
      "RangeIndex: 1000 entries, 0 to 999\n",
      "Data columns (total 7 columns):\n",
      " #   Column       Non-Null Count  Dtype \n",
      "---  ------       --------------  ----- \n",
      " 0   rank         1000 non-null   int64 \n",
      " 1   Video        1000 non-null   object\n",
      " 2   Video views  1000 non-null   object\n",
      " 3   Likes        973 non-null    object\n",
      " 4   Dislikes     687 non-null    object\n",
      " 5   Category     820 non-null    object\n",
      " 6   published    1000 non-null   int64 \n",
      "dtypes: int64(2), object(5)\n",
      "memory usage: 54.8+ KB\n"
     ]
    }
   ],
   "source": [
    "#All info about the Data\n",
    "df.info()"
   ]
  },
  {
   "cell_type": "code",
   "execution_count": 14,
   "id": "d81037a4-a3c9-4de1-b138-d64036444062",
   "metadata": {},
   "outputs": [
    {
     "data": {
      "text/plain": [
       "rank            int64\n",
       "Video          object\n",
       "Video views    object\n",
       "Likes          object\n",
       "Dislikes       object\n",
       "Category       object\n",
       "published       int64\n",
       "dtype: object"
      ]
     },
     "execution_count": 14,
     "metadata": {},
     "output_type": "execute_result"
    }
   ],
   "source": [
    "#Data types of each columns\n",
    "df.dtypes"
   ]
  },
  {
   "cell_type": "markdown",
   "id": "4725387e-b24f-49f4-b55a-58dfa9e12b1e",
   "metadata": {},
   "source": [
    "<li>  <h3>Data Cleaning and Processing</h3>\n",
    "        <p>In this section, we perform the following steps:\n",
    "        <ul>\n",
    "        <li>Check for missing value in the Data</li>\n",
    "        <li>Drop all missing value </li>\n",
    "        <li>Convert the columns to the corect Data types</li>\n",
    "        <li>Count the value in each column</li>\n",
    "        <li>Group the Data into category if necessary\n",
    "        <ol>\n",
    "            <li>Music</li>\n",
    "            <li>Video</li>\n",
    "        </ol>\n",
    "        </li>"
   ]
  },
  {
   "cell_type": "code",
   "execution_count": 16,
   "id": "c93db602-1d81-43ef-8fc6-f41be121af34",
   "metadata": {},
   "outputs": [
    {
     "data": {
      "text/plain": [
       "rank             0\n",
       "Video            0\n",
       "Video views      0\n",
       "Likes           27\n",
       "Dislikes       313\n",
       "Category       180\n",
       "published        0\n",
       "dtype: int64"
      ]
     },
     "execution_count": 16,
     "metadata": {},
     "output_type": "execute_result"
    }
   ],
   "source": [
    "#Check for missing values\n",
    "df.isna().sum()"
   ]
  },
  {
   "cell_type": "code",
   "execution_count": 17,
   "id": "76c09f6f-95ea-4167-8a6a-01b32966a790",
   "metadata": {},
   "outputs": [
    {
     "data": {
      "text/plain": [
       "rank             0\n",
       "Video            0\n",
       "Video views      0\n",
       "Likes           27\n",
       "Dislikes       313\n",
       "Category       180\n",
       "published        0\n",
       "dtype: int64"
      ]
     },
     "execution_count": 17,
     "metadata": {},
     "output_type": "execute_result"
    }
   ],
   "source": [
    "df.isnull().sum()"
   ]
  },
  {
   "cell_type": "code",
   "execution_count": 18,
   "id": "d8378c0e-ab83-4aa2-a8d2-720231ef3e78",
   "metadata": {},
   "outputs": [],
   "source": [
    "#Let's drop all missing Values\n",
    "df[\"Likes\"] = df[\"Likes\"].dropna()"
   ]
  },
  {
   "cell_type": "code",
   "execution_count": 19,
   "id": "e22e520e-e537-4f12-8906-28303dd1ae11",
   "metadata": {},
   "outputs": [],
   "source": [
    "df[\"Likes\"] = df[\"Likes\"].fillna(0)"
   ]
  },
  {
   "cell_type": "code",
   "execution_count": 20,
   "id": "30627546-d5e0-45ba-9348-4f32f7c27946",
   "metadata": {},
   "outputs": [
    {
     "data": {
      "text/plain": [
       "0"
      ]
     },
     "execution_count": 20,
     "metadata": {},
     "output_type": "execute_result"
    }
   ],
   "source": [
    "df[\"Likes\"].isna().sum()"
   ]
  },
  {
   "cell_type": "code",
   "execution_count": 21,
   "id": "c1f916d1-c70d-4143-ad4e-1846c3895f0f",
   "metadata": {},
   "outputs": [
    {
     "data": {
      "text/plain": [
       "rank             0\n",
       "Video            0\n",
       "Video views      0\n",
       "Likes            0\n",
       "Dislikes       313\n",
       "Category       180\n",
       "published        0\n",
       "dtype: int64"
      ]
     },
     "execution_count": 21,
     "metadata": {},
     "output_type": "execute_result"
    }
   ],
   "source": [
    "df.isna().sum()"
   ]
  },
  {
   "cell_type": "code",
   "execution_count": 22,
   "id": "7cf09592-a70b-4b68-b77e-bccf4ccb521c",
   "metadata": {},
   "outputs": [],
   "source": [
    "df[[\"Dislikes\", \"Category\"]] = df[[\"Dislikes\", \"Category\"]].fillna(0)"
   ]
  },
  {
   "cell_type": "code",
   "execution_count": 23,
   "id": "9afc95f1-aa04-40fd-9e0a-a36274c39aa8",
   "metadata": {},
   "outputs": [
    {
     "data": {
      "text/plain": [
       "rank           0\n",
       "Video          0\n",
       "Video views    0\n",
       "Likes          0\n",
       "Dislikes       0\n",
       "Category       0\n",
       "published      0\n",
       "dtype: int64"
      ]
     },
     "execution_count": 23,
     "metadata": {},
     "output_type": "execute_result"
    }
   ],
   "source": [
    "df.isna().sum()"
   ]
  },
  {
   "cell_type": "code",
   "execution_count": 24,
   "id": "dd1b256c-7b07-43ec-9a14-df198b7f11bb",
   "metadata": {},
   "outputs": [],
   "source": [
    "#Convert the columns to the corect Data types\n",
    "df[\"Video views\"] = df[\"Video views\"].str.replace(\",\", \"\").astype('Int64')\n",
    "df[\"Dislikes\"] = df[\"Dislikes\"].str.replace(\",\", \"\").astype('Int64')\n",
    "df[\"Likes\"] = df[\"Likes\"].str.replace(\",\", \"\").astype('Int64')"
   ]
  },
  {
   "cell_type": "code",
   "execution_count": 25,
   "id": "8f467190-3c39-45b7-8753-a8e5173ee3be",
   "metadata": {},
   "outputs": [
    {
     "data": {
      "text/plain": [
       "rank            int64\n",
       "Video          object\n",
       "Video views     Int64\n",
       "Likes           Int64\n",
       "Dislikes        Int64\n",
       "Category       object\n",
       "published       int64\n",
       "dtype: object"
      ]
     },
     "execution_count": 25,
     "metadata": {},
     "output_type": "execute_result"
    }
   ],
   "source": [
    "df.dtypes"
   ]
  },
  {
   "cell_type": "code",
   "execution_count": null,
   "id": "00a7174f-68b6-439a-86e9-759f89f2fc24",
   "metadata": {},
   "outputs": [],
   "source": []
  },
  {
   "cell_type": "code",
   "execution_count": 27,
   "id": "b491a0b8-7a17-44ef-9ded-85a39a4b032a",
   "metadata": {},
   "outputs": [],
   "source": [
    "df = df.rename(columns = {\"Video views\":\"Views\"})"
   ]
  },
  {
   "cell_type": "code",
   "execution_count": 28,
   "id": "ce0202f4-ac58-4597-9d8a-be8455a54064",
   "metadata": {},
   "outputs": [],
   "source": [
    "df = df.rename(columns = {\"published\":\"Years\"})"
   ]
  },
  {
   "cell_type": "code",
   "execution_count": 29,
   "id": "187ed58a-612e-4291-a1fc-b16ff7b2251f",
   "metadata": {},
   "outputs": [
    {
     "data": {
      "text/html": [
       "<div>\n",
       "<style scoped>\n",
       "    .dataframe tbody tr th:only-of-type {\n",
       "        vertical-align: middle;\n",
       "    }\n",
       "\n",
       "    .dataframe tbody tr th {\n",
       "        vertical-align: top;\n",
       "    }\n",
       "\n",
       "    .dataframe thead th {\n",
       "        text-align: right;\n",
       "    }\n",
       "</style>\n",
       "<table border=\"1\" class=\"dataframe\">\n",
       "  <thead>\n",
       "    <tr style=\"text-align: right;\">\n",
       "      <th></th>\n",
       "      <th>rank</th>\n",
       "      <th>Video</th>\n",
       "      <th>Views</th>\n",
       "      <th>Likes</th>\n",
       "      <th>Dislikes</th>\n",
       "      <th>Category</th>\n",
       "      <th>Years</th>\n",
       "    </tr>\n",
       "  </thead>\n",
       "  <tbody>\n",
       "    <tr>\n",
       "      <th>0</th>\n",
       "      <td>1</td>\n",
       "      <td>20 Tennis shots if they were not filmed, NOBOD...</td>\n",
       "      <td>3471237</td>\n",
       "      <td>19023</td>\n",
       "      <td>859</td>\n",
       "      <td>0</td>\n",
       "      <td>2017</td>\n",
       "    </tr>\n",
       "    <tr>\n",
       "      <th>1</th>\n",
       "      <td>2</td>\n",
       "      <td>Lil Nas X - Old Town Road (Official Movie) ft....</td>\n",
       "      <td>54071677</td>\n",
       "      <td>3497955</td>\n",
       "      <td>78799</td>\n",
       "      <td>Music</td>\n",
       "      <td>2019</td>\n",
       "    </tr>\n",
       "    <tr>\n",
       "      <th>2</th>\n",
       "      <td>3</td>\n",
       "      <td>JoJo Siwa - Karma (Official Video)</td>\n",
       "      <td>34206747</td>\n",
       "      <td>293563</td>\n",
       "      <td>&lt;NA&gt;</td>\n",
       "      <td>Music</td>\n",
       "      <td>2024</td>\n",
       "    </tr>\n",
       "    <tr>\n",
       "      <th>3</th>\n",
       "      <td>4</td>\n",
       "      <td>Wiz Khalifa - See You Again ft. Charlie Puth [...</td>\n",
       "      <td>6643904918</td>\n",
       "      <td>44861602</td>\n",
       "      <td>&lt;NA&gt;</td>\n",
       "      <td>Music</td>\n",
       "      <td>2015</td>\n",
       "    </tr>\n",
       "    <tr>\n",
       "      <th>4</th>\n",
       "      <td>5</td>\n",
       "      <td>伊賀の天然水強炭酸水「家族で、シュワシェア。」篇　15秒</td>\n",
       "      <td>236085971</td>\n",
       "      <td>38</td>\n",
       "      <td>&lt;NA&gt;</td>\n",
       "      <td>0</td>\n",
       "      <td>2021</td>\n",
       "    </tr>\n",
       "    <tr>\n",
       "      <th>...</th>\n",
       "      <td>...</td>\n",
       "      <td>...</td>\n",
       "      <td>...</td>\n",
       "      <td>...</td>\n",
       "      <td>...</td>\n",
       "      <td>...</td>\n",
       "      <td>...</td>\n",
       "    </tr>\n",
       "    <tr>\n",
       "      <th>995</th>\n",
       "      <td>996</td>\n",
       "      <td>CALIFORNIA - MONDAY JUSTICE FEAT. SNOOP DOGG (...</td>\n",
       "      <td>943248</td>\n",
       "      <td>2949</td>\n",
       "      <td>22</td>\n",
       "      <td>Music</td>\n",
       "      <td>2017</td>\n",
       "    </tr>\n",
       "    <tr>\n",
       "      <th>996</th>\n",
       "      <td>997</td>\n",
       "      <td>John McEnroe's most famous outburst happened i...</td>\n",
       "      <td>4853621</td>\n",
       "      <td>7254</td>\n",
       "      <td>426</td>\n",
       "      <td>Sports</td>\n",
       "      <td>2010</td>\n",
       "    </tr>\n",
       "    <tr>\n",
       "      <th>997</th>\n",
       "      <td>998</td>\n",
       "      <td>Adi Golan's Group - Teaser</td>\n",
       "      <td>56578</td>\n",
       "      <td>&lt;NA&gt;</td>\n",
       "      <td>&lt;NA&gt;</td>\n",
       "      <td>Music</td>\n",
       "      <td>2014</td>\n",
       "    </tr>\n",
       "    <tr>\n",
       "      <th>998</th>\n",
       "      <td>999</td>\n",
       "      <td>Keg tapping goes horribly wrong.</td>\n",
       "      <td>751804</td>\n",
       "      <td>3427</td>\n",
       "      <td>313</td>\n",
       "      <td>Entertainment</td>\n",
       "      <td>2017</td>\n",
       "    </tr>\n",
       "    <tr>\n",
       "      <th>999</th>\n",
       "      <td>1000</td>\n",
       "      <td>LIVE Hurricane Irma - Downtown Orlando - Ameri...</td>\n",
       "      <td>554438</td>\n",
       "      <td>184</td>\n",
       "      <td>8</td>\n",
       "      <td>News &amp; Politics</td>\n",
       "      <td>2016</td>\n",
       "    </tr>\n",
       "  </tbody>\n",
       "</table>\n",
       "<p>1000 rows × 7 columns</p>\n",
       "</div>"
      ],
      "text/plain": [
       "     rank                                              Video       Views  \\\n",
       "0       1  20 Tennis shots if they were not filmed, NOBOD...     3471237   \n",
       "1       2  Lil Nas X - Old Town Road (Official Movie) ft....    54071677   \n",
       "2       3                 JoJo Siwa - Karma (Official Video)    34206747   \n",
       "3       4  Wiz Khalifa - See You Again ft. Charlie Puth [...  6643904918   \n",
       "4       5                       伊賀の天然水強炭酸水「家族で、シュワシェア。」篇　15秒   236085971   \n",
       "..    ...                                                ...         ...   \n",
       "995   996  CALIFORNIA - MONDAY JUSTICE FEAT. SNOOP DOGG (...      943248   \n",
       "996   997  John McEnroe's most famous outburst happened i...     4853621   \n",
       "997   998                         Adi Golan's Group - Teaser       56578   \n",
       "998   999                   Keg tapping goes horribly wrong.      751804   \n",
       "999  1000  LIVE Hurricane Irma - Downtown Orlando - Ameri...      554438   \n",
       "\n",
       "        Likes  Dislikes         Category  Years  \n",
       "0       19023       859                0   2017  \n",
       "1     3497955     78799            Music   2019  \n",
       "2      293563      <NA>            Music   2024  \n",
       "3    44861602      <NA>            Music   2015  \n",
       "4          38      <NA>                0   2021  \n",
       "..        ...       ...              ...    ...  \n",
       "995      2949        22            Music   2017  \n",
       "996      7254       426           Sports   2010  \n",
       "997      <NA>      <NA>            Music   2014  \n",
       "998      3427       313    Entertainment   2017  \n",
       "999       184         8  News & Politics   2016  \n",
       "\n",
       "[1000 rows x 7 columns]"
      ]
     },
     "execution_count": 29,
     "metadata": {},
     "output_type": "execute_result"
    }
   ],
   "source": [
    "df"
   ]
  },
  {
   "cell_type": "code",
   "execution_count": 30,
   "id": "ba1c2e7c-fc1a-4313-9e7e-b2daf6ea1719",
   "metadata": {},
   "outputs": [],
   "source": [
    "df[\"Years\"] = pd.to_datetime(df[\"Years\"])"
   ]
  },
  {
   "cell_type": "code",
   "execution_count": 31,
   "id": "7c5aac7c-1ebc-41e0-9de8-280a79041720",
   "metadata": {},
   "outputs": [],
   "source": [
    "df[\"Years\"] = df[\"Years\"].dt.year"
   ]
  },
  {
   "cell_type": "code",
   "execution_count": 32,
   "id": "43facaef-4d43-45ee-b2b7-44ae9e0751bc",
   "metadata": {},
   "outputs": [
    {
     "data": {
      "text/plain": [
       "dtype('int32')"
      ]
     },
     "execution_count": 32,
     "metadata": {},
     "output_type": "execute_result"
    }
   ],
   "source": [
    "df[\"Years\"].dtypes"
   ]
  },
  {
   "cell_type": "code",
   "execution_count": 33,
   "id": "ad1bb20c-f9e2-44bb-b55a-95037ceba9c5",
   "metadata": {},
   "outputs": [
    {
     "data": {
      "text/plain": [
       "Video\n",
       "Aydem Enerji - Hayat için enerji                                    2\n",
       "Bıraktığın Gibi Burdayım                                            2\n",
       "Tiryakinim                                                          2\n",
       "Helping small businesses find a way                                 2\n",
       "Best Perspectives of @jordikoalitic ☠️..                            2\n",
       "                                                                   ..\n",
       "Супер герои сервиса Nissan — Тайро                                  1\n",
       "Clumsy Dog                                                          1\n",
       "BuitenHof Tuinmeubelen | Weten dat het goed zit                     1\n",
       "Proposal In Disney World With A Surprise Ending                     1\n",
       "LIVE Hurricane Irma - Downtown Orlando - American Safety Council    1\n",
       "Name: count, Length: 994, dtype: int64"
      ]
     },
     "execution_count": 33,
     "metadata": {},
     "output_type": "execute_result"
    }
   ],
   "source": [
    "#Count the value in each columns\n",
    "df[\"Video\"].value_counts()"
   ]
  },
  {
   "cell_type": "code",
   "execution_count": 34,
   "id": "1ad2a307-fb4a-493c-a3d2-dbf4508c071d",
   "metadata": {},
   "outputs": [
    {
     "data": {
      "text/plain": [
       "Years\n",
       "1970    1000\n",
       "Name: count, dtype: int64"
      ]
     },
     "execution_count": 34,
     "metadata": {},
     "output_type": "execute_result"
    }
   ],
   "source": [
    "df[\"Years\"].value_counts()"
   ]
  },
  {
   "cell_type": "code",
   "execution_count": 35,
   "id": "d555f2a1-4f95-4bf5-af01-c5c7db537341",
   "metadata": {},
   "outputs": [
    {
     "data": {
      "text/plain": [
       "Views\n",
       "3471237      1\n",
       "141469074    1\n",
       "1167599      1\n",
       "3355479      1\n",
       "3464450      1\n",
       "            ..\n",
       "8191516      1\n",
       "962437       1\n",
       "1921703      1\n",
       "3432791      1\n",
       "554438       1\n",
       "Name: count, Length: 1000, dtype: Int64"
      ]
     },
     "execution_count": 35,
     "metadata": {},
     "output_type": "execute_result"
    }
   ],
   "source": [
    "df[\"Views\"].value_counts()"
   ]
  },
  {
   "cell_type": "code",
   "execution_count": 36,
   "id": "96e19f3b-b4ca-482d-8de0-593dc2f12a36",
   "metadata": {},
   "outputs": [
    {
     "data": {
      "text/plain": [
       "Likes\n",
       "2        15\n",
       "0        14\n",
       "7        11\n",
       "5         9\n",
       "4         9\n",
       "         ..\n",
       "2280      1\n",
       "2947      1\n",
       "24140     1\n",
       "3034      1\n",
       "184       1\n",
       "Name: count, Length: 843, dtype: Int64"
      ]
     },
     "execution_count": 36,
     "metadata": {},
     "output_type": "execute_result"
    }
   ],
   "source": [
    "df[\"Likes\"].value_counts()"
   ]
  },
  {
   "cell_type": "code",
   "execution_count": 37,
   "id": "3ecdef0c-5f9e-4c53-816a-7ad7885774d6",
   "metadata": {},
   "outputs": [
    {
     "data": {
      "text/plain": [
       "Dislikes\n",
       "0       33\n",
       "1       15\n",
       "2        9\n",
       "3        8\n",
       "152      5\n",
       "        ..\n",
       "247      1\n",
       "760      1\n",
       "2670     1\n",
       "1292     1\n",
       "426      1\n",
       "Name: count, Length: 489, dtype: Int64"
      ]
     },
     "execution_count": 37,
     "metadata": {},
     "output_type": "execute_result"
    }
   ],
   "source": [
    "df[\"Dislikes\"].value_counts()"
   ]
  },
  {
   "cell_type": "code",
   "execution_count": 38,
   "id": "c7bd8ade-597a-42ff-a9c3-1506669d453f",
   "metadata": {},
   "outputs": [
    {
     "data": {
      "text/plain": [
       "Category\n",
       "Music                    284\n",
       "0                        180\n",
       "People & Blogs           171\n",
       "Entertainment             97\n",
       "Comedy                    63\n",
       "Sports                    44\n",
       "Autos & Vehicles          36\n",
       "Film & Animation          29\n",
       "Pets & Animals            19\n",
       "Gaming                    17\n",
       "News & Politics           16\n",
       "Howto & Style             13\n",
       "Education                 10\n",
       "Travel & Events           10\n",
       "Nonprofits & Activism      6\n",
       "Science & Technology       5\n",
       "Name: count, dtype: int64"
      ]
     },
     "execution_count": 38,
     "metadata": {},
     "output_type": "execute_result"
    }
   ],
   "source": [
    "#Groupe the Data into Category\n",
    "df[\"Category\"].value_counts()"
   ]
  },
  {
   "cell_type": "code",
   "execution_count": 39,
   "id": "99c067ec-e6ed-44ad-a684-136ff81bc5a7",
   "metadata": {},
   "outputs": [],
   "source": [
    "df_muc = df[df[\"Category\"]==\"Music\"]"
   ]
  },
  {
   "cell_type": "code",
   "execution_count": 40,
   "id": "c1e843a6-5664-4cef-9f52-18cba5a373f7",
   "metadata": {},
   "outputs": [],
   "source": [
    "df_muc = df[df[\"Category\"]==\"Music\"]\n",
    "df_ent = df[df[\"Category\"]==\"Entertainment\"]\n",
    "df_com = df[df[\"Category\"]==\"Comedy\"]\n",
    "df_sp = df[df[\"Category\"]==\"Sports\"]"
   ]
  },
  {
   "cell_type": "code",
   "execution_count": 41,
   "id": "0bd2d444-fb1e-43dc-847c-e8fa318c5065",
   "metadata": {},
   "outputs": [
    {
     "data": {
      "text/html": [
       "<div>\n",
       "<style scoped>\n",
       "    .dataframe tbody tr th:only-of-type {\n",
       "        vertical-align: middle;\n",
       "    }\n",
       "\n",
       "    .dataframe tbody tr th {\n",
       "        vertical-align: top;\n",
       "    }\n",
       "\n",
       "    .dataframe thead th {\n",
       "        text-align: right;\n",
       "    }\n",
       "</style>\n",
       "<table border=\"1\" class=\"dataframe\">\n",
       "  <thead>\n",
       "    <tr style=\"text-align: right;\">\n",
       "      <th></th>\n",
       "      <th>rank</th>\n",
       "      <th>Video</th>\n",
       "      <th>Views</th>\n",
       "      <th>Likes</th>\n",
       "      <th>Dislikes</th>\n",
       "      <th>Category</th>\n",
       "      <th>Years</th>\n",
       "    </tr>\n",
       "  </thead>\n",
       "  <tbody>\n",
       "    <tr>\n",
       "      <th>1</th>\n",
       "      <td>2</td>\n",
       "      <td>Lil Nas X - Old Town Road (Official Movie) ft....</td>\n",
       "      <td>54071677</td>\n",
       "      <td>3497955</td>\n",
       "      <td>78799</td>\n",
       "      <td>Music</td>\n",
       "      <td>1970</td>\n",
       "    </tr>\n",
       "    <tr>\n",
       "      <th>2</th>\n",
       "      <td>3</td>\n",
       "      <td>JoJo Siwa - Karma (Official Video)</td>\n",
       "      <td>34206747</td>\n",
       "      <td>293563</td>\n",
       "      <td>&lt;NA&gt;</td>\n",
       "      <td>Music</td>\n",
       "      <td>1970</td>\n",
       "    </tr>\n",
       "    <tr>\n",
       "      <th>3</th>\n",
       "      <td>4</td>\n",
       "      <td>Wiz Khalifa - See You Again ft. Charlie Puth [...</td>\n",
       "      <td>6643904918</td>\n",
       "      <td>44861602</td>\n",
       "      <td>&lt;NA&gt;</td>\n",
       "      <td>Music</td>\n",
       "      <td>1970</td>\n",
       "    </tr>\n",
       "    <tr>\n",
       "      <th>5</th>\n",
       "      <td>6</td>\n",
       "      <td>JP Saxe - If the World Was Ending (Official Vi...</td>\n",
       "      <td>76834495</td>\n",
       "      <td>804353</td>\n",
       "      <td>21195</td>\n",
       "      <td>Music</td>\n",
       "      <td>1970</td>\n",
       "    </tr>\n",
       "    <tr>\n",
       "      <th>6</th>\n",
       "      <td>7</td>\n",
       "      <td>David Kushner - Daylight (Official Music Video)</td>\n",
       "      <td>18558390</td>\n",
       "      <td>680732</td>\n",
       "      <td>&lt;NA&gt;</td>\n",
       "      <td>Music</td>\n",
       "      <td>1970</td>\n",
       "    </tr>\n",
       "  </tbody>\n",
       "</table>\n",
       "</div>"
      ],
      "text/plain": [
       "   rank                                              Video       Views  \\\n",
       "1     2  Lil Nas X - Old Town Road (Official Movie) ft....    54071677   \n",
       "2     3                 JoJo Siwa - Karma (Official Video)    34206747   \n",
       "3     4  Wiz Khalifa - See You Again ft. Charlie Puth [...  6643904918   \n",
       "5     6  JP Saxe - If the World Was Ending (Official Vi...    76834495   \n",
       "6     7    David Kushner - Daylight (Official Music Video)    18558390   \n",
       "\n",
       "      Likes  Dislikes Category  Years  \n",
       "1   3497955     78799    Music   1970  \n",
       "2    293563      <NA>    Music   1970  \n",
       "3  44861602      <NA>    Music   1970  \n",
       "5    804353     21195    Music   1970  \n",
       "6    680732      <NA>    Music   1970  "
      ]
     },
     "execution_count": 41,
     "metadata": {},
     "output_type": "execute_result"
    }
   ],
   "source": [
    "df_muc.head(5)"
   ]
  },
  {
   "cell_type": "code",
   "execution_count": 42,
   "id": "de20e0aa-bf1e-4015-ba01-0d6839596c87",
   "metadata": {},
   "outputs": [
    {
     "data": {
      "text/html": [
       "<div>\n",
       "<style scoped>\n",
       "    .dataframe tbody tr th:only-of-type {\n",
       "        vertical-align: middle;\n",
       "    }\n",
       "\n",
       "    .dataframe tbody tr th {\n",
       "        vertical-align: top;\n",
       "    }\n",
       "\n",
       "    .dataframe thead th {\n",
       "        text-align: right;\n",
       "    }\n",
       "</style>\n",
       "<table border=\"1\" class=\"dataframe\">\n",
       "  <thead>\n",
       "    <tr style=\"text-align: right;\">\n",
       "      <th></th>\n",
       "      <th>rank</th>\n",
       "      <th>Video</th>\n",
       "      <th>Views</th>\n",
       "      <th>Likes</th>\n",
       "      <th>Dislikes</th>\n",
       "      <th>Category</th>\n",
       "      <th>Years</th>\n",
       "    </tr>\n",
       "  </thead>\n",
       "  <tbody>\n",
       "    <tr>\n",
       "      <th>7</th>\n",
       "      <td>8</td>\n",
       "      <td>Power Star Pawan Kalyan Special Surprise To Se...</td>\n",
       "      <td>96686</td>\n",
       "      <td>1007</td>\n",
       "      <td>82</td>\n",
       "      <td>Entertainment</td>\n",
       "      <td>1970</td>\n",
       "    </tr>\n",
       "    <tr>\n",
       "      <th>13</th>\n",
       "      <td>14</td>\n",
       "      <td>Not a mechanical baby</td>\n",
       "      <td>14612153</td>\n",
       "      <td>3339</td>\n",
       "      <td>156</td>\n",
       "      <td>Entertainment</td>\n",
       "      <td>1970</td>\n",
       "    </tr>\n",
       "    <tr>\n",
       "      <th>31</th>\n",
       "      <td>32</td>\n",
       "      <td>Biggest Snake of the World for Sale, 25 000 €</td>\n",
       "      <td>55113253</td>\n",
       "      <td>3957</td>\n",
       "      <td>46705</td>\n",
       "      <td>Entertainment</td>\n",
       "      <td>1970</td>\n",
       "    </tr>\n",
       "    <tr>\n",
       "      <th>36</th>\n",
       "      <td>37</td>\n",
       "      <td>basic instinct</td>\n",
       "      <td>6484622</td>\n",
       "      <td>1102</td>\n",
       "      <td>271</td>\n",
       "      <td>Entertainment</td>\n",
       "      <td>1970</td>\n",
       "    </tr>\n",
       "    <tr>\n",
       "      <th>50</th>\n",
       "      <td>51</td>\n",
       "      <td>Starcraft 2 Gameplay footage and unit preview</td>\n",
       "      <td>7529927</td>\n",
       "      <td>6075</td>\n",
       "      <td>772</td>\n",
       "      <td>Entertainment</td>\n",
       "      <td>1970</td>\n",
       "    </tr>\n",
       "  </tbody>\n",
       "</table>\n",
       "</div>"
      ],
      "text/plain": [
       "    rank                                              Video     Views  Likes  \\\n",
       "7      8  Power Star Pawan Kalyan Special Surprise To Se...     96686   1007   \n",
       "13    14                              Not a mechanical baby  14612153   3339   \n",
       "31    32      Biggest Snake of the World for Sale, 25 000 €  55113253   3957   \n",
       "36    37                                     basic instinct   6484622   1102   \n",
       "50    51      Starcraft 2 Gameplay footage and unit preview   7529927   6075   \n",
       "\n",
       "    Dislikes       Category  Years  \n",
       "7         82  Entertainment   1970  \n",
       "13       156  Entertainment   1970  \n",
       "31     46705  Entertainment   1970  \n",
       "36       271  Entertainment   1970  \n",
       "50       772  Entertainment   1970  "
      ]
     },
     "execution_count": 42,
     "metadata": {},
     "output_type": "execute_result"
    }
   ],
   "source": [
    "df_ent.head(5)"
   ]
  },
  {
   "cell_type": "code",
   "execution_count": 43,
   "id": "26e8b366-b50a-4748-a83d-908ace2c1af6",
   "metadata": {},
   "outputs": [
    {
     "data": {
      "text/html": [
       "<div>\n",
       "<style scoped>\n",
       "    .dataframe tbody tr th:only-of-type {\n",
       "        vertical-align: middle;\n",
       "    }\n",
       "\n",
       "    .dataframe tbody tr th {\n",
       "        vertical-align: top;\n",
       "    }\n",
       "\n",
       "    .dataframe thead th {\n",
       "        text-align: right;\n",
       "    }\n",
       "</style>\n",
       "<table border=\"1\" class=\"dataframe\">\n",
       "  <thead>\n",
       "    <tr style=\"text-align: right;\">\n",
       "      <th></th>\n",
       "      <th>rank</th>\n",
       "      <th>Video</th>\n",
       "      <th>Views</th>\n",
       "      <th>Likes</th>\n",
       "      <th>Dislikes</th>\n",
       "      <th>Category</th>\n",
       "      <th>Years</th>\n",
       "    </tr>\n",
       "  </thead>\n",
       "  <tbody>\n",
       "    <tr>\n",
       "      <th>15</th>\n",
       "      <td>16</td>\n",
       "      <td>pevecov popek poje na sexy back</td>\n",
       "      <td>37460296</td>\n",
       "      <td>4533</td>\n",
       "      <td>10949</td>\n",
       "      <td>Comedy</td>\n",
       "      <td>1970</td>\n",
       "    </tr>\n",
       "    <tr>\n",
       "      <th>23</th>\n",
       "      <td>24</td>\n",
       "      <td>Jim Carrey THE FUNNIEST video</td>\n",
       "      <td>8322488</td>\n",
       "      <td>6216</td>\n",
       "      <td>11521</td>\n",
       "      <td>Comedy</td>\n",
       "      <td>1970</td>\n",
       "    </tr>\n",
       "    <tr>\n",
       "      <th>60</th>\n",
       "      <td>61</td>\n",
       "      <td>Wedding first dance w/ surprise Jack Johnson M...</td>\n",
       "      <td>16485606</td>\n",
       "      <td>15813</td>\n",
       "      <td>1360</td>\n",
       "      <td>Comedy</td>\n",
       "      <td>1970</td>\n",
       "    </tr>\n",
       "    <tr>\n",
       "      <th>65</th>\n",
       "      <td>66</td>\n",
       "      <td>Big nipples</td>\n",
       "      <td>13591249</td>\n",
       "      <td>1951</td>\n",
       "      <td>1628</td>\n",
       "      <td>Comedy</td>\n",
       "      <td>1970</td>\n",
       "    </tr>\n",
       "    <tr>\n",
       "      <th>75</th>\n",
       "      <td>76</td>\n",
       "      <td>Dog scared by fart</td>\n",
       "      <td>5938416</td>\n",
       "      <td>3883</td>\n",
       "      <td>129</td>\n",
       "      <td>Comedy</td>\n",
       "      <td>1970</td>\n",
       "    </tr>\n",
       "  </tbody>\n",
       "</table>\n",
       "</div>"
      ],
      "text/plain": [
       "    rank                                              Video     Views  Likes  \\\n",
       "15    16                    pevecov popek poje na sexy back  37460296   4533   \n",
       "23    24                      Jim Carrey THE FUNNIEST video   8322488   6216   \n",
       "60    61  Wedding first dance w/ surprise Jack Johnson M...  16485606  15813   \n",
       "65    66                                        Big nipples  13591249   1951   \n",
       "75    76                                 Dog scared by fart   5938416   3883   \n",
       "\n",
       "    Dislikes Category  Years  \n",
       "15     10949   Comedy   1970  \n",
       "23     11521   Comedy   1970  \n",
       "60      1360   Comedy   1970  \n",
       "65      1628   Comedy   1970  \n",
       "75       129   Comedy   1970  "
      ]
     },
     "execution_count": 43,
     "metadata": {},
     "output_type": "execute_result"
    }
   ],
   "source": [
    "df_com.head(5)"
   ]
  },
  {
   "cell_type": "code",
   "execution_count": 44,
   "id": "864e8c62-030f-4b39-9723-54372a2690ef",
   "metadata": {},
   "outputs": [
    {
     "data": {
      "text/plain": [
       "rank        284\n",
       "Video       281\n",
       "Views       284\n",
       "Likes       282\n",
       "Dislikes     91\n",
       "Category      1\n",
       "Years         1\n",
       "dtype: int64"
      ]
     },
     "execution_count": 44,
     "metadata": {},
     "output_type": "execute_result"
    }
   ],
   "source": [
    "#Number of unique data in each columns\n",
    "df_muc.nunique()"
   ]
  },
  {
   "cell_type": "code",
   "execution_count": 45,
   "id": "8a4b78c6-7b73-4daf-bb88-5ccd39ec8c99",
   "metadata": {},
   "outputs": [],
   "source": [
    "#Let's select all numerical column and categorica; columns\n",
    "num_data = df.select_dtypes(include = \"number\")"
   ]
  },
  {
   "cell_type": "code",
   "execution_count": 46,
   "id": "550a1a9c-b76c-4849-bc30-4f6128425898",
   "metadata": {},
   "outputs": [],
   "source": [
    "num_col = df.select_dtypes(include = \"number\").columns.tolist()"
   ]
  },
  {
   "cell_type": "code",
   "execution_count": 47,
   "id": "f000d454-3d8a-4ff2-88ab-35b32a8c1ca3",
   "metadata": {},
   "outputs": [
    {
     "data": {
      "text/plain": [
       "['rank', 'Views', 'Likes', 'Dislikes', 'Years']"
      ]
     },
     "execution_count": 47,
     "metadata": {},
     "output_type": "execute_result"
    }
   ],
   "source": [
    "num_col"
   ]
  },
  {
   "cell_type": "code",
   "execution_count": 48,
   "id": "91527153-c1d5-47c5-a5b9-b36bd866a176",
   "metadata": {},
   "outputs": [],
   "source": [
    "num_col = df.select_dtypes(include = \"number\").columns.tolist()"
   ]
  },
  {
   "cell_type": "code",
   "execution_count": 49,
   "id": "ce4c0b57-b473-4b39-8bc4-9c1e04d4fbc0",
   "metadata": {},
   "outputs": [],
   "source": [
    "music_1990 = df_muc[df_muc[\"Years\"]==1990]"
   ]
  },
  {
   "cell_type": "code",
   "execution_count": 50,
   "id": "aad7f47d-029b-4f43-b041-0e1c63865443",
   "metadata": {},
   "outputs": [
    {
     "data": {
      "text/plain": [
       "Likes         2\n",
       "Dislikes    186\n",
       "dtype: int64"
      ]
     },
     "execution_count": 50,
     "metadata": {},
     "output_type": "execute_result"
    }
   ],
   "source": [
    "df_muc[[\"Likes\",\"Dislikes\"]].isnull().sum()"
   ]
  },
  {
   "cell_type": "code",
   "execution_count": 51,
   "id": "cb573d56-9744-4f36-accd-b14d58038e66",
   "metadata": {},
   "outputs": [
    {
     "data": {
      "text/html": [
       "<div>\n",
       "<style scoped>\n",
       "    .dataframe tbody tr th:only-of-type {\n",
       "        vertical-align: middle;\n",
       "    }\n",
       "\n",
       "    .dataframe tbody tr th {\n",
       "        vertical-align: top;\n",
       "    }\n",
       "\n",
       "    .dataframe thead th {\n",
       "        text-align: right;\n",
       "    }\n",
       "</style>\n",
       "<table border=\"1\" class=\"dataframe\">\n",
       "  <thead>\n",
       "    <tr style=\"text-align: right;\">\n",
       "      <th></th>\n",
       "      <th>Dislikes</th>\n",
       "    </tr>\n",
       "  </thead>\n",
       "  <tbody>\n",
       "    <tr>\n",
       "      <th>1</th>\n",
       "      <td>78799</td>\n",
       "    </tr>\n",
       "    <tr>\n",
       "      <th>2</th>\n",
       "      <td>&lt;NA&gt;</td>\n",
       "    </tr>\n",
       "    <tr>\n",
       "      <th>3</th>\n",
       "      <td>&lt;NA&gt;</td>\n",
       "    </tr>\n",
       "    <tr>\n",
       "      <th>5</th>\n",
       "      <td>21195</td>\n",
       "    </tr>\n",
       "    <tr>\n",
       "      <th>6</th>\n",
       "      <td>&lt;NA&gt;</td>\n",
       "    </tr>\n",
       "    <tr>\n",
       "      <th>...</th>\n",
       "      <td>...</td>\n",
       "    </tr>\n",
       "    <tr>\n",
       "      <th>967</th>\n",
       "      <td>1927</td>\n",
       "    </tr>\n",
       "    <tr>\n",
       "      <th>969</th>\n",
       "      <td>1023</td>\n",
       "    </tr>\n",
       "    <tr>\n",
       "      <th>974</th>\n",
       "      <td>1653</td>\n",
       "    </tr>\n",
       "    <tr>\n",
       "      <th>995</th>\n",
       "      <td>22</td>\n",
       "    </tr>\n",
       "    <tr>\n",
       "      <th>997</th>\n",
       "      <td>&lt;NA&gt;</td>\n",
       "    </tr>\n",
       "  </tbody>\n",
       "</table>\n",
       "<p>284 rows × 1 columns</p>\n",
       "</div>"
      ],
      "text/plain": [
       "     Dislikes\n",
       "1       78799\n",
       "2        <NA>\n",
       "3        <NA>\n",
       "5       21195\n",
       "6        <NA>\n",
       "..        ...\n",
       "967      1927\n",
       "969      1023\n",
       "974      1653\n",
       "995        22\n",
       "997      <NA>\n",
       "\n",
       "[284 rows x 1 columns]"
      ]
     },
     "execution_count": 51,
     "metadata": {},
     "output_type": "execute_result"
    }
   ],
   "source": [
    "df_muc[[\"Dislikes\"]]"
   ]
  },
  {
   "cell_type": "code",
   "execution_count": 52,
   "id": "6a0c77dd-c2ef-44a0-8cfb-49f233354501",
   "metadata": {},
   "outputs": [],
   "source": [
    "avg_Dislike = df_muc[[\"Dislikes\"]].astype(\"float\").mean(axis = 0)"
   ]
  },
  {
   "cell_type": "code",
   "execution_count": 53,
   "id": "65041d43-9902-401b-8da0-9b3a3b979c51",
   "metadata": {},
   "outputs": [
    {
     "data": {
      "text/plain": [
       "Dislikes    3485.183673\n",
       "dtype: float64"
      ]
     },
     "execution_count": 53,
     "metadata": {},
     "output_type": "execute_result"
    }
   ],
   "source": [
    "avg_Dislike"
   ]
  },
  {
   "cell_type": "code",
   "execution_count": 54,
   "id": "549297fb-d5ec-4b98-ad9c-2f2521afc998",
   "metadata": {},
   "outputs": [
    {
     "ename": "TypeError",
     "evalue": "Invalid value '3485.183673469388' for dtype Int64",
     "output_type": "error",
     "traceback": [
      "\u001b[1;31m---------------------------------------------------------------------------\u001b[0m",
      "\u001b[1;31mTypeError\u001b[0m                                 Traceback (most recent call last)",
      "Cell \u001b[1;32mIn[54], line 1\u001b[0m\n\u001b[1;32m----> 1\u001b[0m df_muc[[\u001b[38;5;124m\"\u001b[39m\u001b[38;5;124mDislikes\u001b[39m\u001b[38;5;124m\"\u001b[39m]] \u001b[38;5;241m=\u001b[39m df_muc[[\u001b[38;5;124m\"\u001b[39m\u001b[38;5;124mDislikes\u001b[39m\u001b[38;5;124m\"\u001b[39m]]\u001b[38;5;241m.\u001b[39mreplace(\u001b[38;5;241m0\u001b[39m, avg_Dislike)\n",
      "File \u001b[1;32m~\\anaconda3\\Lib\\site-packages\\pandas\\core\\generic.py:8130\u001b[0m, in \u001b[0;36mNDFrame.replace\u001b[1;34m(self, to_replace, value, inplace, limit, regex, method)\u001b[0m\n\u001b[0;32m   8125\u001b[0m         \u001b[38;5;28;01mraise\u001b[39;00m \u001b[38;5;167;01mValueError\u001b[39;00m(\n\u001b[0;32m   8126\u001b[0m             \u001b[38;5;124m\"\u001b[39m\u001b[38;5;124mSeries.replace cannot use dict-value and \u001b[39m\u001b[38;5;124m\"\u001b[39m\n\u001b[0;32m   8127\u001b[0m             \u001b[38;5;124m\"\u001b[39m\u001b[38;5;124mnon-None to_replace\u001b[39m\u001b[38;5;124m\"\u001b[39m\n\u001b[0;32m   8128\u001b[0m         )\n\u001b[0;32m   8129\u001b[0m     mapping \u001b[38;5;241m=\u001b[39m {col: (to_replace, val) \u001b[38;5;28;01mfor\u001b[39;00m col, val \u001b[38;5;129;01min\u001b[39;00m value\u001b[38;5;241m.\u001b[39mitems()}\n\u001b[1;32m-> 8130\u001b[0m     \u001b[38;5;28;01mreturn\u001b[39;00m \u001b[38;5;28mself\u001b[39m\u001b[38;5;241m.\u001b[39m_replace_columnwise(mapping, inplace, regex)\n\u001b[0;32m   8132\u001b[0m \u001b[38;5;28;01melif\u001b[39;00m \u001b[38;5;129;01mnot\u001b[39;00m is_list_like(value):  \u001b[38;5;66;03m# NA -> 0\u001b[39;00m\n\u001b[0;32m   8133\u001b[0m     regex \u001b[38;5;241m=\u001b[39m should_use_regex(regex, to_replace)\n",
      "File \u001b[1;32m~\\anaconda3\\Lib\\site-packages\\pandas\\core\\frame.py:5847\u001b[0m, in \u001b[0;36mDataFrame._replace_columnwise\u001b[1;34m(self, mapping, inplace, regex)\u001b[0m\n\u001b[0;32m   5844\u001b[0m         ser \u001b[38;5;241m=\u001b[39m \u001b[38;5;28mself\u001b[39m\u001b[38;5;241m.\u001b[39miloc[:, i]\n\u001b[0;32m   5846\u001b[0m         target, value \u001b[38;5;241m=\u001b[39m mapping[ax_value]\n\u001b[1;32m-> 5847\u001b[0m         newobj \u001b[38;5;241m=\u001b[39m ser\u001b[38;5;241m.\u001b[39mreplace(target, value, regex\u001b[38;5;241m=\u001b[39mregex)\n\u001b[0;32m   5849\u001b[0m         res\u001b[38;5;241m.\u001b[39m_iset_item(i, newobj, inplace\u001b[38;5;241m=\u001b[39minplace)\n\u001b[0;32m   5851\u001b[0m \u001b[38;5;28;01mif\u001b[39;00m inplace:\n",
      "File \u001b[1;32m~\\anaconda3\\Lib\\site-packages\\pandas\\core\\generic.py:8141\u001b[0m, in \u001b[0;36mNDFrame.replace\u001b[1;34m(self, to_replace, value, inplace, limit, regex, method)\u001b[0m\n\u001b[0;32m   8135\u001b[0m         new_data \u001b[38;5;241m=\u001b[39m \u001b[38;5;28mself\u001b[39m\u001b[38;5;241m.\u001b[39m_mgr\u001b[38;5;241m.\u001b[39mreplace_regex(\n\u001b[0;32m   8136\u001b[0m             to_replace\u001b[38;5;241m=\u001b[39mto_replace,\n\u001b[0;32m   8137\u001b[0m             value\u001b[38;5;241m=\u001b[39mvalue,\n\u001b[0;32m   8138\u001b[0m             inplace\u001b[38;5;241m=\u001b[39minplace,\n\u001b[0;32m   8139\u001b[0m         )\n\u001b[0;32m   8140\u001b[0m     \u001b[38;5;28;01melse\u001b[39;00m:\n\u001b[1;32m-> 8141\u001b[0m         new_data \u001b[38;5;241m=\u001b[39m \u001b[38;5;28mself\u001b[39m\u001b[38;5;241m.\u001b[39m_mgr\u001b[38;5;241m.\u001b[39mreplace(\n\u001b[0;32m   8142\u001b[0m             to_replace\u001b[38;5;241m=\u001b[39mto_replace, value\u001b[38;5;241m=\u001b[39mvalue, inplace\u001b[38;5;241m=\u001b[39minplace\n\u001b[0;32m   8143\u001b[0m         )\n\u001b[0;32m   8144\u001b[0m \u001b[38;5;28;01melse\u001b[39;00m:\n\u001b[0;32m   8145\u001b[0m     \u001b[38;5;28;01mraise\u001b[39;00m \u001b[38;5;167;01mTypeError\u001b[39;00m(\n\u001b[0;32m   8146\u001b[0m         \u001b[38;5;124mf\u001b[39m\u001b[38;5;124m'\u001b[39m\u001b[38;5;124mInvalid \u001b[39m\u001b[38;5;124m\"\u001b[39m\u001b[38;5;124mto_replace\u001b[39m\u001b[38;5;124m\"\u001b[39m\u001b[38;5;124m type: \u001b[39m\u001b[38;5;132;01m{\u001b[39;00m\u001b[38;5;28mrepr\u001b[39m(\u001b[38;5;28mtype\u001b[39m(to_replace)\u001b[38;5;241m.\u001b[39m\u001b[38;5;18m__name__\u001b[39m)\u001b[38;5;132;01m}\u001b[39;00m\u001b[38;5;124m'\u001b[39m\n\u001b[0;32m   8147\u001b[0m     )\n",
      "File \u001b[1;32m~\\anaconda3\\Lib\\site-packages\\pandas\\core\\internals\\base.py:249\u001b[0m, in \u001b[0;36mDataManager.replace\u001b[1;34m(self, to_replace, value, inplace)\u001b[0m\n\u001b[0;32m    247\u001b[0m \u001b[38;5;28;01massert\u001b[39;00m \u001b[38;5;129;01mnot\u001b[39;00m lib\u001b[38;5;241m.\u001b[39mis_list_like(to_replace)\n\u001b[0;32m    248\u001b[0m \u001b[38;5;28;01massert\u001b[39;00m \u001b[38;5;129;01mnot\u001b[39;00m lib\u001b[38;5;241m.\u001b[39mis_list_like(value)\n\u001b[1;32m--> 249\u001b[0m \u001b[38;5;28;01mreturn\u001b[39;00m \u001b[38;5;28mself\u001b[39m\u001b[38;5;241m.\u001b[39mapply_with_block(\n\u001b[0;32m    250\u001b[0m     \u001b[38;5;124m\"\u001b[39m\u001b[38;5;124mreplace\u001b[39m\u001b[38;5;124m\"\u001b[39m,\n\u001b[0;32m    251\u001b[0m     to_replace\u001b[38;5;241m=\u001b[39mto_replace,\n\u001b[0;32m    252\u001b[0m     value\u001b[38;5;241m=\u001b[39mvalue,\n\u001b[0;32m    253\u001b[0m     inplace\u001b[38;5;241m=\u001b[39minplace,\n\u001b[0;32m    254\u001b[0m     using_cow\u001b[38;5;241m=\u001b[39musing_copy_on_write(),\n\u001b[0;32m    255\u001b[0m     already_warned\u001b[38;5;241m=\u001b[39m_AlreadyWarned(),\n\u001b[0;32m    256\u001b[0m )\n",
      "File \u001b[1;32m~\\anaconda3\\Lib\\site-packages\\pandas\\core\\internals\\managers.py:363\u001b[0m, in \u001b[0;36mBaseBlockManager.apply\u001b[1;34m(self, f, align_keys, **kwargs)\u001b[0m\n\u001b[0;32m    361\u001b[0m         applied \u001b[38;5;241m=\u001b[39m b\u001b[38;5;241m.\u001b[39mapply(f, \u001b[38;5;241m*\u001b[39m\u001b[38;5;241m*\u001b[39mkwargs)\n\u001b[0;32m    362\u001b[0m     \u001b[38;5;28;01melse\u001b[39;00m:\n\u001b[1;32m--> 363\u001b[0m         applied \u001b[38;5;241m=\u001b[39m \u001b[38;5;28mgetattr\u001b[39m(b, f)(\u001b[38;5;241m*\u001b[39m\u001b[38;5;241m*\u001b[39mkwargs)\n\u001b[0;32m    364\u001b[0m     result_blocks \u001b[38;5;241m=\u001b[39m extend_blocks(applied, result_blocks)\n\u001b[0;32m    366\u001b[0m out \u001b[38;5;241m=\u001b[39m \u001b[38;5;28mtype\u001b[39m(\u001b[38;5;28mself\u001b[39m)\u001b[38;5;241m.\u001b[39mfrom_blocks(result_blocks, \u001b[38;5;28mself\u001b[39m\u001b[38;5;241m.\u001b[39maxes)\n",
      "File \u001b[1;32m~\\anaconda3\\Lib\\site-packages\\pandas\\core\\internals\\blocks.py:881\u001b[0m, in \u001b[0;36mBlock.replace\u001b[1;34m(self, to_replace, value, inplace, mask, using_cow, already_warned)\u001b[0m\n\u001b[0;32m    877\u001b[0m \u001b[38;5;28;01melif\u001b[39;00m \u001b[38;5;28mself\u001b[39m\u001b[38;5;241m.\u001b[39m_can_hold_element(value):\n\u001b[0;32m    878\u001b[0m     \u001b[38;5;66;03m# TODO(CoW): Maybe split here as well into columns where mask has True\u001b[39;00m\n\u001b[0;32m    879\u001b[0m     \u001b[38;5;66;03m# and rest?\u001b[39;00m\n\u001b[0;32m    880\u001b[0m     blk \u001b[38;5;241m=\u001b[39m \u001b[38;5;28mself\u001b[39m\u001b[38;5;241m.\u001b[39m_maybe_copy(using_cow, inplace)\n\u001b[1;32m--> 881\u001b[0m     putmask_inplace(blk\u001b[38;5;241m.\u001b[39mvalues, mask, value)\n\u001b[0;32m    882\u001b[0m     \u001b[38;5;28;01mif\u001b[39;00m (\n\u001b[0;32m    883\u001b[0m         inplace\n\u001b[0;32m    884\u001b[0m         \u001b[38;5;129;01mand\u001b[39;00m warn_copy_on_write()\n\u001b[0;32m    885\u001b[0m         \u001b[38;5;129;01mand\u001b[39;00m already_warned \u001b[38;5;129;01mis\u001b[39;00m \u001b[38;5;129;01mnot\u001b[39;00m \u001b[38;5;28;01mNone\u001b[39;00m\n\u001b[0;32m    886\u001b[0m         \u001b[38;5;129;01mand\u001b[39;00m \u001b[38;5;129;01mnot\u001b[39;00m already_warned\u001b[38;5;241m.\u001b[39mwarned_already\n\u001b[0;32m    887\u001b[0m     ):\n\u001b[0;32m    888\u001b[0m         \u001b[38;5;28;01mif\u001b[39;00m \u001b[38;5;28mself\u001b[39m\u001b[38;5;241m.\u001b[39mrefs\u001b[38;5;241m.\u001b[39mhas_reference():\n",
      "File \u001b[1;32m~\\anaconda3\\Lib\\site-packages\\pandas\\core\\array_algos\\putmask.py:56\u001b[0m, in \u001b[0;36mputmask_inplace\u001b[1;34m(values, mask, value)\u001b[0m\n\u001b[0;32m     54\u001b[0m         values[mask] \u001b[38;5;241m=\u001b[39m value[mask]\n\u001b[0;32m     55\u001b[0m     \u001b[38;5;28;01melse\u001b[39;00m:\n\u001b[1;32m---> 56\u001b[0m         values[mask] \u001b[38;5;241m=\u001b[39m value\n\u001b[0;32m     57\u001b[0m \u001b[38;5;28;01melse\u001b[39;00m:\n\u001b[0;32m     58\u001b[0m     \u001b[38;5;66;03m# GH#37833 np.putmask is more performant than __setitem__\u001b[39;00m\n\u001b[0;32m     59\u001b[0m     np\u001b[38;5;241m.\u001b[39mputmask(values, mask, value)\n",
      "File \u001b[1;32m~\\anaconda3\\Lib\\site-packages\\pandas\\core\\arrays\\masked.py:314\u001b[0m, in \u001b[0;36mBaseMaskedArray.__setitem__\u001b[1;34m(self, key, value)\u001b[0m\n\u001b[0;32m    312\u001b[0m     \u001b[38;5;28mself\u001b[39m\u001b[38;5;241m.\u001b[39m_mask[key] \u001b[38;5;241m=\u001b[39m \u001b[38;5;28;01mTrue\u001b[39;00m\n\u001b[0;32m    313\u001b[0m \u001b[38;5;28;01melse\u001b[39;00m:\n\u001b[1;32m--> 314\u001b[0m     value \u001b[38;5;241m=\u001b[39m \u001b[38;5;28mself\u001b[39m\u001b[38;5;241m.\u001b[39m_validate_setitem_value(value)\n\u001b[0;32m    315\u001b[0m     \u001b[38;5;28mself\u001b[39m\u001b[38;5;241m.\u001b[39m_data[key] \u001b[38;5;241m=\u001b[39m value\n\u001b[0;32m    316\u001b[0m     \u001b[38;5;28mself\u001b[39m\u001b[38;5;241m.\u001b[39m_mask[key] \u001b[38;5;241m=\u001b[39m \u001b[38;5;28;01mFalse\u001b[39;00m\n",
      "File \u001b[1;32m~\\anaconda3\\Lib\\site-packages\\pandas\\core\\arrays\\masked.py:305\u001b[0m, in \u001b[0;36mBaseMaskedArray._validate_setitem_value\u001b[1;34m(self, value)\u001b[0m\n\u001b[0;32m    300\u001b[0m         \u001b[38;5;28;01mreturn\u001b[39;00m value\n\u001b[0;32m    301\u001b[0m     \u001b[38;5;66;03m# TODO: unsigned checks\u001b[39;00m\n\u001b[0;32m    302\u001b[0m \n\u001b[0;32m    303\u001b[0m \u001b[38;5;66;03m# Note: without the \"str\" here, the f-string rendering raises in\u001b[39;00m\n\u001b[0;32m    304\u001b[0m \u001b[38;5;66;03m#  py38 builds.\u001b[39;00m\n\u001b[1;32m--> 305\u001b[0m \u001b[38;5;28;01mraise\u001b[39;00m \u001b[38;5;167;01mTypeError\u001b[39;00m(\u001b[38;5;124mf\u001b[39m\u001b[38;5;124m\"\u001b[39m\u001b[38;5;124mInvalid value \u001b[39m\u001b[38;5;124m'\u001b[39m\u001b[38;5;132;01m{\u001b[39;00m\u001b[38;5;28mstr\u001b[39m(value)\u001b[38;5;132;01m}\u001b[39;00m\u001b[38;5;124m'\u001b[39m\u001b[38;5;124m for dtype \u001b[39m\u001b[38;5;132;01m{\u001b[39;00m\u001b[38;5;28mself\u001b[39m\u001b[38;5;241m.\u001b[39mdtype\u001b[38;5;132;01m}\u001b[39;00m\u001b[38;5;124m\"\u001b[39m)\n",
      "\u001b[1;31mTypeError\u001b[0m: Invalid value '3485.183673469388' for dtype Int64"
     ]
    }
   ],
   "source": [
    "df_muc[[\"Dislikes\"]] = df_muc[[\"Dislikes\"]].replace(0, avg_Dislike)"
   ]
  },
  {
   "cell_type": "code",
   "execution_count": null,
   "id": "0d2ab9a8-4db8-4ff3-8eed-d38de8807f36",
   "metadata": {},
   "outputs": [],
   "source": [
    "df_muc[[\"Dislikes\"]] = df_muc[[\"Dislikes\"]].astype(\"float\")"
   ]
  },
  {
   "cell_type": "code",
   "execution_count": null,
   "id": "fda5a51b-0e7c-42a2-8838-5d93f2b6dbf0",
   "metadata": {},
   "outputs": [],
   "source": [
    "df_muc[[\"Dislikes\"]]"
   ]
  },
  {
   "cell_type": "code",
   "execution_count": null,
   "id": "5bc2f969-f244-4661-a52c-75829aa88245",
   "metadata": {},
   "outputs": [],
   "source": [
    "df_muc[[\"Likes\"]]"
   ]
  },
  {
   "cell_type": "code",
   "execution_count": null,
   "id": "ee87a180-2ce2-40da-86a6-61c723fe2c3a",
   "metadata": {},
   "outputs": [],
   "source": []
  },
  {
   "cell_type": "markdown",
   "id": "80d6ac94-16b5-48e7-91ca-5c241f2fb38f",
   "metadata": {},
   "source": [
    "<h1>Data Visualisation</h1>\n"
   ]
  },
  {
   "cell_type": "code",
   "execution_count": null,
   "id": "9fe3393d-e839-4e86-8b5f-62f5e0350f19",
   "metadata": {
    "scrolled": true
   },
   "outputs": [],
   "source": [
    "plt.figure(figsize= (6,4))\n",
    "sns.histplot(df_muc[\"Views\"], kde= True, bins = 50)\n",
    "plt.title(\"Distribution of Video Views\")\n",
    "plt.xlabel(\"Views\")\n",
    "plt.ylabel(\"Frequency\")\n",
    "plt.savefig(\"./Desktop/DATA ANALYSIS PROJECT/PYTHON/Image/viewhist_90.png\")\n",
    "plt.show()\n",
    "\n",
    "\n",
    "plt.figure(figsize= (6,4))\n",
    "sns.histplot(df_muc[\"Dislikes\"], kde= True, bins = 50)\n",
    "plt.title(\"Distribution of Dislike\")\n",
    "plt.xlabel(\"Views\")\n",
    "plt.ylabel(\"Frequency\")\n",
    "plt.savefig(\"./Desktop/DATA ANALYSIS PROJECT/PYTHON/Image/dislikehist_90.png\")\n",
    "plt.show()\n",
    "\n",
    "plt.figure(figsize= (6,4))\n",
    "sns.histplot(df_muc[\"Likes\"], kde= True, bins = 50)\n",
    "plt.title(\"Distribution of Likes\")\n",
    "plt.xlabel(\"Views\")\n",
    "plt.ylabel(\"Frequency\")\n",
    "plt.savefig(\"./Desktop/DATA ANALYSIS PROJECT/PYTHON/Image/likehist_90.png\")\n",
    "plt.show()\n",
    "\n",
    "\n",
    "\n",
    "# Boxplot: Views by Category\n",
    "plt.figure(figsize=(6,2))\n",
    "sns.boxplot(x='Category', y='Views', data=df_muc)\n",
    "plt.xticks(rotation=90)\n",
    "plt.title(\"Views by Category\")\n",
    "plt.ylabel(\"Views\")\n",
    "plt.savefig(\"./Desktop/DATA ANALYSIS PROJECT/PYTHON/Image/boxcat_90.png\")\n",
    "plt.show()\n",
    "\n",
    "# Scatterplot: Likes vs Views\n",
    "plt.figure(figsize=(6,2))\n",
    "sns.scatterplot(x='Likes', y='Views', hue='Category', data=df_muc)\n",
    "plt.title(\"Likes vs Views\")\n",
    "plt.xlabel(\"Likes\")\n",
    "plt.ylabel(\"Views\")\n",
    "plt.legend(bbox_to_anchor=(1.05, 1), loc=2)\n",
    "plt.savefig(\"./Desktop/DATA ANALYSIS PROJECT/PYTHON/Image/boxdhist_90\")\n",
    "plt.show()"
   ]
  },
  {
   "cell_type": "code",
   "execution_count": null,
   "id": "668816ad-56f1-47ac-b96c-4ddabea7539e",
   "metadata": {},
   "outputs": [],
   "source": [
    "sns.pairplot(df)"
   ]
  },
  {
   "cell_type": "code",
   "execution_count": null,
   "id": "e56d5d20-6811-41e9-b172-7a5db46b48cf",
   "metadata": {},
   "outputs": [],
   "source": [
    "#Visualize the correlation between like and dislikesplt.figure(figsize=(12,6))\n",
    "sns.scatterplot(x='Likes', y='Dislikes', hue='Category', data=df_muc)\n",
    "plt.title(\"Likes vs Dislikes\")\n",
    "plt.xlabel(\"Likes\")\n",
    "plt.ylabel(\"Dislikes\")\n",
    "plt.legend(bbox_to_anchor=(1.05, 1), loc=2)\n",
    "plt.savefig(\"./Desktop/DATA ANALYSIS PROJECT/PYTHON/Image/LikeDislikes_boxdhist_90.png\")\n",
    "plt.show()\n",
    "\n",
    "plt.figure(figsize=(12,6))\n",
    "sns.scatterplot(x='Likes', y='Views', hue='Category', data=df)\n",
    "plt.title(\"Likes vs Video views\")\n",
    "plt.xlabel(\"Likes\")\n",
    "plt.ylabel(\"Views\")\n",
    "plt.legend(bbox_to_anchor=(1.05, 1), loc=2)\n",
    "plt.savefig(\"./Desktop/DATA ANALYSIS PROJECT/PYTHON/Image/bLikeViewsoxd_90.png\")\n",
    "plt.show()\n",
    "\n",
    "# Correlation heatmap\n",
    "plt.figure(figsize=(8,5))\n",
    "sns.heatmap(df_muc[['Views', 'Likes', 'Dislikes']].corr(), annot=True, cmap='Blues')\n",
    "plt.title(\"Correlation Matrix for music 1990\")\n",
    "plt.savefig(\"./Desktop/DATA ANALYSIS PROJECT/PYTHON/Image/corr_plot_heatmap.png\")\n",
    "plt.show()"
   ]
  },
  {
   "cell_type": "markdown",
   "id": "b93de9c3-5c81-4db7-89a6-1e6215b0a0ae",
   "metadata": {},
   "source": [
    "<h1>ML</h1>\n",
    "<h3>Training model</h3>"
   ]
  },
  {
   "cell_type": "code",
   "execution_count": null,
   "id": "58110f1b-b9fc-4cf5-b24b-6be9a462dd08",
   "metadata": {},
   "outputs": [],
   "source": [
    "X = df_muc[[\"Likes\",\"Dislikes\"]]\n",
    "y = df_muc[\"Views\"]"
   ]
  },
  {
   "cell_type": "code",
   "execution_count": null,
   "id": "ea06d2d4-cbc6-4787-bf47-1664a992250f",
   "metadata": {},
   "outputs": [],
   "source": [
    "X.isnull().sum()"
   ]
  },
  {
   "cell_type": "code",
   "execution_count": null,
   "id": "d13492c2-181c-424e-998a-66c52f6dfb03",
   "metadata": {},
   "outputs": [],
   "source": [
    "#X.drop(df.tail(4).index,\n",
    " #       inplace = True)"
   ]
  },
  {
   "cell_type": "code",
   "execution_count": null,
   "id": "88e41842-3c6e-4fce-88e4-d769a9558bdc",
   "metadata": {},
   "outputs": [],
   "source": [
    "X = df_muc[[\"Likes\",\"Dislikes\"]]"
   ]
  },
  {
   "cell_type": "code",
   "execution_count": null,
   "id": "4851f9df-7404-4d3d-afb2-5c07b9a43b1c",
   "metadata": {},
   "outputs": [],
   "source": [
    "avg_X = X[\"Likes\"].astype(\"float\").mean(axis = 0)"
   ]
  },
  {
   "cell_type": "code",
   "execution_count": null,
   "id": "431134d6-a39e-4249-b94e-a923c645f9b0",
   "metadata": {},
   "outputs": [],
   "source": [
    "X.isnull().sum()"
   ]
  },
  {
   "cell_type": "code",
   "execution_count": null,
   "id": "6c416d4b-baf9-4689-b1f3-4194c5b1d64b",
   "metadata": {},
   "outputs": [],
   "source": [
    "X_train, X_test, y_train, y_test = train_test_split(X,y, test_size =.4, random_state = 45)"
   ]
  },
  {
   "cell_type": "code",
   "execution_count": null,
   "id": "6df690cd-dd90-486a-a417-07a3e45b14e5",
   "metadata": {},
   "outputs": [],
   "source": [
    "model =LinearRegression()\n",
    "model.fit(X_train, y_train)"
   ]
  },
  {
   "cell_type": "code",
   "execution_count": null,
   "id": "74501786-b6be-4efd-a5d8-387d1bad10e5",
   "metadata": {},
   "outputs": [],
   "source": [
    "y_predict = model.predict(X_test)"
   ]
  },
  {
   "cell_type": "code",
   "execution_count": null,
   "id": "779b29ec-96c2-4b63-844d-7768b11b892b",
   "metadata": {},
   "outputs": [],
   "source": [
    "y_predict"
   ]
  },
  {
   "cell_type": "code",
   "execution_count": null,
   "id": "eec38876-38c4-4876-9eaf-3629f51200fc",
   "metadata": {},
   "outputs": [],
   "source": [
    "model_2 = LogisticRegression()\n",
    "model.fit(X_train, y_train)"
   ]
  },
  {
   "cell_type": "code",
   "execution_count": null,
   "id": "20a56518-0bcd-45f8-89b3-6b79073a7966",
   "metadata": {},
   "outputs": [],
   "source": [
    "y_predict_2 = model.predict(X_test)"
   ]
  },
  {
   "cell_type": "code",
   "execution_count": null,
   "id": "04bfbd9b-9ffb-444c-8dca-e09eb133f3a6",
   "metadata": {},
   "outputs": [],
   "source": [
    "y_predict_2"
   ]
  },
  {
   "cell_type": "code",
   "execution_count": null,
   "id": "6fee40a4-00b5-4358-bb1c-638d7f856c2c",
   "metadata": {},
   "outputs": [],
   "source": [
    "y_predict is y_predict_2"
   ]
  },
  {
   "cell_type": "code",
   "execution_count": null,
   "id": "e23b4850-52c6-461f-89d0-b1829d70d4c3",
   "metadata": {},
   "outputs": [],
   "source": [
    "y_predict"
   ]
  },
  {
   "cell_type": "code",
   "execution_count": null,
   "id": "2bc526c7-e440-473e-ac20-46960c81e34e",
   "metadata": {},
   "outputs": [],
   "source": [
    "y_test"
   ]
  },
  {
   "cell_type": "code",
   "execution_count": null,
   "id": "311a2818-1aca-417b-85c1-5f7a592cb0c0",
   "metadata": {},
   "outputs": [],
   "source": [
    "#Find me mse\n",
    "mse = mean_squared_error(y_test, y_predict)"
   ]
  },
  {
   "cell_type": "code",
   "execution_count": null,
   "id": "64fe964a-2718-45d3-ba06-917a27f8b87a",
   "metadata": {},
   "outputs": [],
   "source": [
    "f\"The mean Square error is : {mse}\""
   ]
  },
  {
   "cell_type": "code",
   "execution_count": null,
   "id": "96b9291c-b770-4a71-a349-f943a2676347",
   "metadata": {},
   "outputs": [],
   "source": [
    "r2sc = r2_score(y_test, y_predict)"
   ]
  },
  {
   "cell_type": "code",
   "execution_count": null,
   "id": "8bcbd8c0-7ee0-4912-b658-265c3ec66fc3",
   "metadata": {},
   "outputs": [],
   "source": [
    "f\"The root square score is : {r2sc}\""
   ]
  },
  {
   "cell_type": "code",
   "execution_count": null,
   "id": "4c0954e4-9416-4bd2-9a8a-0192f0e9be73",
   "metadata": {},
   "outputs": [],
   "source": [
    "correlation_likes_views = df['Video views'].corr(df['Likes'])\n",
    "correlation_likes_dislikes = df['Likes'].corr(df['Dislikes'])\n",
    "correlation_dislikes_views = df['Video views'].corr(df['Dislikes'])"
   ]
  },
  {
   "cell_type": "code",
   "execution_count": null,
   "id": "4b0ec4dd-c775-4000-8097-260e3e9a9650",
   "metadata": {},
   "outputs": [],
   "source": [
    "correlation_likes_views,correlation_likes_dislikes,correlation_dislikes_views"
   ]
  },
  {
   "cell_type": "code",
   "execution_count": null,
   "id": "024786db-eed4-4ff9-bbe8-f5f7b91cb70f",
   "metadata": {
    "scrolled": true
   },
   "outputs": [],
   "source": [
    "df[\"published\"].value_counts().sort_values(ascending = False).plot(kind=\"bar\")\n",
    "plt.title(\"Value count of the year published over the time\")\n",
    "plt.ylabel(\"Count\")"
   ]
  },
  {
   "cell_type": "code",
   "execution_count": null,
   "id": "b5cac8e1-00a1-4ebc-a81b-2ca79d8a459e",
   "metadata": {},
   "outputs": [],
   "source": [
    "df[df['published'] >= 2022]"
   ]
  },
  {
   "cell_type": "markdown",
   "id": "55b9bcfb-b66e-4026-b1aa-92acbb522ae6",
   "metadata": {},
   "source": [
    "<h2>\n",
    "    Author : \n",
    "     <h6>WEDSON PETIT HOMME </h6>\n",
    "    <br>\n",
    "    <h4> Contact :</h4>\n",
    "    <li>Email : wedsonpetithomme0@gmail.com</li>\n",
    "    <li> <a href = \"https://www.linkedin.com/\"> Linkedin :</a><a href = \"https://www.linkedin.com/in/wedson-petithomme-947571239/\">wedson-petit-homme-947571239 </a></li>\n",
    "    <li><a href = \"https://github.com/ALYProdz\">GitHub :</a><a href = \"https://github.com/ALYProdz\">Wedson (ALYProdz) </a> </li>\n",
    "    <li><a href = \"https://x.com/\"> X(Twitter) :</a> @WedsonPh97</a></li>\n",
    "</h2>\n"
   ]
  },
  {
   "cell_type": "code",
   "execution_count": null,
   "id": "65589613-144f-4be0-b5ba-aeb5c74e8470",
   "metadata": {},
   "outputs": [],
   "source": []
  },
  {
   "cell_type": "code",
   "execution_count": 75,
   "id": "640d581a-af20-42e0-a38d-6336fdcbb847",
   "metadata": {},
   "outputs": [
    {
     "data": {
      "text/plain": [
       "'C:\\\\Users\\\\Usuario'"
      ]
     },
     "execution_count": 75,
     "metadata": {},
     "output_type": "execute_result"
    }
   ],
   "source": [
    "pwd"
   ]
  },
  {
   "cell_type": "code",
   "execution_count": null,
   "id": "86550ebb-b4b2-4acc-92b4-21bbb32353b3",
   "metadata": {},
   "outputs": [],
   "source": []
  }
 ],
 "metadata": {
  "kernelspec": {
   "display_name": "Python [conda env:base] *",
   "language": "python",
   "name": "conda-base-py"
  },
  "language_info": {
   "codemirror_mode": {
    "name": "ipython",
    "version": 3
   },
   "file_extension": ".py",
   "mimetype": "text/x-python",
   "name": "python",
   "nbconvert_exporter": "python",
   "pygments_lexer": "ipython3",
   "version": "3.12.7"
  }
 },
 "nbformat": 4,
 "nbformat_minor": 5
}
